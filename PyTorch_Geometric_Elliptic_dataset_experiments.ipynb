{
  "cells": [
    {
      "cell_type": "markdown",
      "metadata": {
        "id": "Nh6JX_n1MeJ-"
      },
      "source": [
        "# Setup and data preprocessing"
      ]
    },
    {
      "cell_type": "code",
      "execution_count": null,
      "metadata": {
        "colab": {
          "base_uri": "https://localhost:8080/"
        },
        "id": "nDWarIrNS1dl",
        "outputId": "0c8aeb79-e7b0-4f4b-8dca-8f2650fca5c4"
      },
      "outputs": [
        {
          "name": "stdout",
          "output_type": "stream",
          "text": [
            "1.11.0+cu113\n"
          ]
        }
      ],
      "source": [
        "%python -c \"import torch; print(torch.__version__)\""
      ]
    },
    {
      "cell_type": "code",
      "execution_count": null,
      "metadata": {
        "id": "GgWOAyjYTEa-"
      },
      "outputs": [],
      "source": [
        "try:\n",
        "    import torch_geometric\n",
        "except:\n",
        "    import torch\n",
        "    \n",
        "    CUDA = \"cu113\"\n",
        "    TORCH = \"1.11.0\""
      ]
    },
    {
      "cell_type": "code",
      "execution_count": null,
      "metadata": {
        "colab": {
          "base_uri": "https://localhost:8080/"
        },
        "id": "UhS4SVcCt3pt",
        "outputId": "b4820c23-0e09-4f60-c019-fc3fede843c2"
      },
      "outputs": [],
      "source": [
        "%pip install -q torch-scatter -f https://data.pyg.org/whl/torch-1.11.0+cu113.html\n",
        "%pip install -q torch-sparse -f https://data.pyg.org/whl/torch-1.11.0+cu113.html\n",
        "\n",
        "%pip install torch-cluster -f https://data.pyg.org/whl/torch-1.11.0+cu113.html\n",
        "\n",
        "%pip install -q git+https://github.com/pyg-team/pytorch_geometric.git"
      ]
    },
    {
      "cell_type": "code",
      "execution_count": null,
      "metadata": {
        "id": "epn0fMOBtw__"
      },
      "outputs": [],
      "source": [
        "# import libraries\n",
        "\n",
        "import numpy as np\n",
        "import pandas as pd\n",
        "import torch\n",
        "import networkx as nx\n",
        "import seaborn as sns\n",
        "import matplotlib.pyplot as plt\n",
        "%matplotlib inline\n",
        "\n",
        "from torch_geometric.data import Data"
      ]
    },
    {
      "cell_type": "code",
      "execution_count": 3,
      "metadata": {
        "id": "lyVdKFvVtTjF"
      },
      "outputs": [],
      "source": [
        "# read dataset\n",
        "\n",
        "df_classes = pd.read_csv('elliptic_bitcoin_dataset/elliptic_txs_classes.csv')\n",
        "df_features = pd.read_csv('elliptic_bitcoin_dataset/elliptic_txs_features.csv', header=None)\n",
        "df_edgelist = pd.read_csv('elliptic_bitcoin_dataset/elliptic_txs_edgelist.csv')"
      ]
    },
    {
      "cell_type": "code",
      "execution_count": null,
      "metadata": {
        "colab": {
          "base_uri": "https://localhost:8080/",
          "height": 206
        },
        "id": "zGJe1bbRtuEs",
        "outputId": "4b0fa8fa-73c0-4a62-cef0-1349faed4443"
      },
      "outputs": [
        {
          "data": {
            "text/html": [
              "\n",
              "  <div id=\"df-29cc0596-d2ca-4658-afb2-9282eac8ec21\">\n",
              "    <div class=\"colab-df-container\">\n",
              "      <div>\n",
              "<style scoped>\n",
              "    .dataframe tbody tr th:only-of-type {\n",
              "        vertical-align: middle;\n",
              "    }\n",
              "\n",
              "    .dataframe tbody tr th {\n",
              "        vertical-align: top;\n",
              "    }\n",
              "\n",
              "    .dataframe thead th {\n",
              "        text-align: right;\n",
              "    }\n",
              "</style>\n",
              "<table border=\"1\" class=\"dataframe\">\n",
              "  <thead>\n",
              "    <tr style=\"text-align: right;\">\n",
              "      <th></th>\n",
              "      <th>txId</th>\n",
              "      <th>class</th>\n",
              "    </tr>\n",
              "  </thead>\n",
              "  <tbody>\n",
              "    <tr>\n",
              "      <th>0</th>\n",
              "      <td>230425980</td>\n",
              "      <td>2</td>\n",
              "    </tr>\n",
              "    <tr>\n",
              "      <th>1</th>\n",
              "      <td>5530458</td>\n",
              "      <td>2</td>\n",
              "    </tr>\n",
              "    <tr>\n",
              "      <th>2</th>\n",
              "      <td>232022460</td>\n",
              "      <td>2</td>\n",
              "    </tr>\n",
              "    <tr>\n",
              "      <th>3</th>\n",
              "      <td>232438397</td>\n",
              "      <td>0</td>\n",
              "    </tr>\n",
              "    <tr>\n",
              "      <th>4</th>\n",
              "      <td>230460314</td>\n",
              "      <td>2</td>\n",
              "    </tr>\n",
              "  </tbody>\n",
              "</table>\n",
              "</div>\n",
              "      <button class=\"colab-df-convert\" onclick=\"convertToInteractive('df-29cc0596-d2ca-4658-afb2-9282eac8ec21')\"\n",
              "              title=\"Convert this dataframe to an interactive table.\"\n",
              "              style=\"display:none;\">\n",
              "        \n",
              "  <svg xmlns=\"http://www.w3.org/2000/svg\" height=\"24px\"viewBox=\"0 0 24 24\"\n",
              "       width=\"24px\">\n",
              "    <path d=\"M0 0h24v24H0V0z\" fill=\"none\"/>\n",
              "    <path d=\"M18.56 5.44l.94 2.06.94-2.06 2.06-.94-2.06-.94-.94-2.06-.94 2.06-2.06.94zm-11 1L8.5 8.5l.94-2.06 2.06-.94-2.06-.94L8.5 2.5l-.94 2.06-2.06.94zm10 10l.94 2.06.94-2.06 2.06-.94-2.06-.94-.94-2.06-.94 2.06-2.06.94z\"/><path d=\"M17.41 7.96l-1.37-1.37c-.4-.4-.92-.59-1.43-.59-.52 0-1.04.2-1.43.59L10.3 9.45l-7.72 7.72c-.78.78-.78 2.05 0 2.83L4 21.41c.39.39.9.59 1.41.59.51 0 1.02-.2 1.41-.59l7.78-7.78 2.81-2.81c.8-.78.8-2.07 0-2.86zM5.41 20L4 18.59l7.72-7.72 1.47 1.35L5.41 20z\"/>\n",
              "  </svg>\n",
              "      </button>\n",
              "      \n",
              "  <style>\n",
              "    .colab-df-container {\n",
              "      display:flex;\n",
              "      flex-wrap:wrap;\n",
              "      gap: 12px;\n",
              "    }\n",
              "\n",
              "    .colab-df-convert {\n",
              "      background-color: #E8F0FE;\n",
              "      border: none;\n",
              "      border-radius: 50%;\n",
              "      cursor: pointer;\n",
              "      display: none;\n",
              "      fill: #1967D2;\n",
              "      height: 32px;\n",
              "      padding: 0 0 0 0;\n",
              "      width: 32px;\n",
              "    }\n",
              "\n",
              "    .colab-df-convert:hover {\n",
              "      background-color: #E2EBFA;\n",
              "      box-shadow: 0px 1px 2px rgba(60, 64, 67, 0.3), 0px 1px 3px 1px rgba(60, 64, 67, 0.15);\n",
              "      fill: #174EA6;\n",
              "    }\n",
              "\n",
              "    [theme=dark] .colab-df-convert {\n",
              "      background-color: #3B4455;\n",
              "      fill: #D2E3FC;\n",
              "    }\n",
              "\n",
              "    [theme=dark] .colab-df-convert:hover {\n",
              "      background-color: #434B5C;\n",
              "      box-shadow: 0px 1px 3px 1px rgba(0, 0, 0, 0.15);\n",
              "      filter: drop-shadow(0px 1px 2px rgba(0, 0, 0, 0.3));\n",
              "      fill: #FFFFFF;\n",
              "    }\n",
              "  </style>\n",
              "\n",
              "      <script>\n",
              "        const buttonEl =\n",
              "          document.querySelector('#df-29cc0596-d2ca-4658-afb2-9282eac8ec21 button.colab-df-convert');\n",
              "        buttonEl.style.display =\n",
              "          google.colab.kernel.accessAllowed ? 'block' : 'none';\n",
              "\n",
              "        async function convertToInteractive(key) {\n",
              "          const element = document.querySelector('#df-29cc0596-d2ca-4658-afb2-9282eac8ec21');\n",
              "          const dataTable =\n",
              "            await google.colab.kernel.invokeFunction('convertToInteractive',\n",
              "                                                     [key], {});\n",
              "          if (!dataTable) return;\n",
              "\n",
              "          const docLinkHtml = 'Like what you see? Visit the ' +\n",
              "            '<a target=\"_blank\" href=https://colab.research.google.com/notebooks/data_table.ipynb>data table notebook</a>'\n",
              "            + ' to learn more about interactive tables.';\n",
              "          element.innerHTML = '';\n",
              "          dataTable['output_type'] = 'display_data';\n",
              "          await google.colab.output.renderOutput(dataTable, element);\n",
              "          const docLink = document.createElement('div');\n",
              "          docLink.innerHTML = docLinkHtml;\n",
              "          element.appendChild(docLink);\n",
              "        }\n",
              "      </script>\n",
              "    </div>\n",
              "  </div>\n",
              "  "
            ],
            "text/plain": [
              "        txId  class\n",
              "0  230425980      2\n",
              "1    5530458      2\n",
              "2  232022460      2\n",
              "3  232438397      0\n",
              "4  230460314      2"
            ]
          },
          "execution_count": 12,
          "metadata": {},
          "output_type": "execute_result"
        }
      ],
      "source": [
        "# reformat classes 0:licit, 1:illicit, 2:unknow\n",
        "\n",
        "df_classes['class'] = df_classes['class'].map({'unknown': 2, '1':1, '2':0})\n",
        "df_classes.head()"
      ]
    },
    {
      "cell_type": "code",
      "execution_count": null,
      "metadata": {
        "colab": {
          "base_uri": "https://localhost:8080/"
        },
        "id": "cbVGpUvhtx_L",
        "outputId": "4f2821f0-8a41-4ae3-ebb7-479abea2ad72"
      },
      "outputs": [
        {
          "name": "stdout",
          "output_type": "stream",
          "text": [
            "tensor([2, 2, 2,  ..., 1, 2, 2])\n"
          ]
        }
      ],
      "source": [
        "y = torch.from_numpy(df_classes['class'].values)\n",
        "print(y)"
      ]
    },
    {
      "cell_type": "code",
      "execution_count": null,
      "metadata": {
        "colab": {
          "base_uri": "https://localhost:8080/",
          "height": 299
        },
        "id": "44kqqXf1AAfA",
        "outputId": "0eca60fb-98a3-41e6-c712-c2ddeca039f5"
      },
      "outputs": [
        {
          "data": {
            "text/html": [
              "\n",
              "  <div id=\"df-e83780f6-c6b6-49ca-ba48-a4d5c7c632c3\">\n",
              "    <div class=\"colab-df-container\">\n",
              "      <div>\n",
              "<style scoped>\n",
              "    .dataframe tbody tr th:only-of-type {\n",
              "        vertical-align: middle;\n",
              "    }\n",
              "\n",
              "    .dataframe tbody tr th {\n",
              "        vertical-align: top;\n",
              "    }\n",
              "\n",
              "    .dataframe thead th {\n",
              "        text-align: right;\n",
              "    }\n",
              "</style>\n",
              "<table border=\"1\" class=\"dataframe\">\n",
              "  <thead>\n",
              "    <tr style=\"text-align: right;\">\n",
              "      <th></th>\n",
              "      <th>txId</th>\n",
              "      <th>time_step</th>\n",
              "      <th>trans_feat_0</th>\n",
              "      <th>trans_feat_1</th>\n",
              "      <th>trans_feat_2</th>\n",
              "      <th>trans_feat_3</th>\n",
              "      <th>trans_feat_4</th>\n",
              "      <th>trans_feat_5</th>\n",
              "      <th>trans_feat_6</th>\n",
              "      <th>trans_feat_7</th>\n",
              "      <th>...</th>\n",
              "      <th>agg_feat_62</th>\n",
              "      <th>agg_feat_63</th>\n",
              "      <th>agg_feat_64</th>\n",
              "      <th>agg_feat_65</th>\n",
              "      <th>agg_feat_66</th>\n",
              "      <th>agg_feat_67</th>\n",
              "      <th>agg_feat_68</th>\n",
              "      <th>agg_feat_69</th>\n",
              "      <th>agg_feat_70</th>\n",
              "      <th>agg_feat_71</th>\n",
              "    </tr>\n",
              "  </thead>\n",
              "  <tbody>\n",
              "    <tr>\n",
              "      <th>0</th>\n",
              "      <td>230425980</td>\n",
              "      <td>1</td>\n",
              "      <td>-0.171469</td>\n",
              "      <td>-0.184668</td>\n",
              "      <td>-1.201369</td>\n",
              "      <td>-0.121970</td>\n",
              "      <td>-0.043875</td>\n",
              "      <td>-0.113002</td>\n",
              "      <td>-0.061584</td>\n",
              "      <td>-0.162097</td>\n",
              "      <td>...</td>\n",
              "      <td>-0.562153</td>\n",
              "      <td>-0.600999</td>\n",
              "      <td>1.461330</td>\n",
              "      <td>1.461369</td>\n",
              "      <td>0.018279</td>\n",
              "      <td>-0.087490</td>\n",
              "      <td>-0.131155</td>\n",
              "      <td>-0.097524</td>\n",
              "      <td>-0.120613</td>\n",
              "      <td>-0.119792</td>\n",
              "    </tr>\n",
              "    <tr>\n",
              "      <th>1</th>\n",
              "      <td>5530458</td>\n",
              "      <td>1</td>\n",
              "      <td>-0.171484</td>\n",
              "      <td>-0.184668</td>\n",
              "      <td>-1.201369</td>\n",
              "      <td>-0.121970</td>\n",
              "      <td>-0.043875</td>\n",
              "      <td>-0.113002</td>\n",
              "      <td>-0.061584</td>\n",
              "      <td>-0.162112</td>\n",
              "      <td>...</td>\n",
              "      <td>0.947382</td>\n",
              "      <td>0.673103</td>\n",
              "      <td>-0.979074</td>\n",
              "      <td>-0.978556</td>\n",
              "      <td>0.018279</td>\n",
              "      <td>-0.087490</td>\n",
              "      <td>-0.131155</td>\n",
              "      <td>-0.097524</td>\n",
              "      <td>-0.120613</td>\n",
              "      <td>-0.119792</td>\n",
              "    </tr>\n",
              "    <tr>\n",
              "      <th>2</th>\n",
              "      <td>232022460</td>\n",
              "      <td>1</td>\n",
              "      <td>-0.172107</td>\n",
              "      <td>-0.184668</td>\n",
              "      <td>-1.201369</td>\n",
              "      <td>-0.121970</td>\n",
              "      <td>-0.043875</td>\n",
              "      <td>-0.113002</td>\n",
              "      <td>-0.061584</td>\n",
              "      <td>-0.162749</td>\n",
              "      <td>...</td>\n",
              "      <td>0.670883</td>\n",
              "      <td>0.439728</td>\n",
              "      <td>-0.979074</td>\n",
              "      <td>-0.978556</td>\n",
              "      <td>-0.098889</td>\n",
              "      <td>-0.106715</td>\n",
              "      <td>-0.131155</td>\n",
              "      <td>-0.183671</td>\n",
              "      <td>-0.120613</td>\n",
              "      <td>-0.119792</td>\n",
              "    </tr>\n",
              "    <tr>\n",
              "      <th>3</th>\n",
              "      <td>232438397</td>\n",
              "      <td>1</td>\n",
              "      <td>0.163054</td>\n",
              "      <td>1.963790</td>\n",
              "      <td>-0.646376</td>\n",
              "      <td>12.409294</td>\n",
              "      <td>-0.063725</td>\n",
              "      <td>9.782742</td>\n",
              "      <td>12.414558</td>\n",
              "      <td>-0.163645</td>\n",
              "      <td>...</td>\n",
              "      <td>-0.577099</td>\n",
              "      <td>-0.613614</td>\n",
              "      <td>0.241128</td>\n",
              "      <td>0.241406</td>\n",
              "      <td>1.072793</td>\n",
              "      <td>0.085530</td>\n",
              "      <td>-0.131155</td>\n",
              "      <td>0.677799</td>\n",
              "      <td>-0.120613</td>\n",
              "      <td>-0.119792</td>\n",
              "    </tr>\n",
              "    <tr>\n",
              "      <th>4</th>\n",
              "      <td>230460314</td>\n",
              "      <td>1</td>\n",
              "      <td>1.011523</td>\n",
              "      <td>-0.081127</td>\n",
              "      <td>-1.201369</td>\n",
              "      <td>1.153668</td>\n",
              "      <td>0.333276</td>\n",
              "      <td>1.312656</td>\n",
              "      <td>-0.061584</td>\n",
              "      <td>-0.163523</td>\n",
              "      <td>...</td>\n",
              "      <td>-0.511871</td>\n",
              "      <td>-0.400422</td>\n",
              "      <td>0.517257</td>\n",
              "      <td>0.579382</td>\n",
              "      <td>0.018279</td>\n",
              "      <td>0.277775</td>\n",
              "      <td>0.326394</td>\n",
              "      <td>1.293750</td>\n",
              "      <td>0.178136</td>\n",
              "      <td>0.179117</td>\n",
              "    </tr>\n",
              "  </tbody>\n",
              "</table>\n",
              "<p>5 rows × 167 columns</p>\n",
              "</div>\n",
              "      <button class=\"colab-df-convert\" onclick=\"convertToInteractive('df-e83780f6-c6b6-49ca-ba48-a4d5c7c632c3')\"\n",
              "              title=\"Convert this dataframe to an interactive table.\"\n",
              "              style=\"display:none;\">\n",
              "        \n",
              "  <svg xmlns=\"http://www.w3.org/2000/svg\" height=\"24px\"viewBox=\"0 0 24 24\"\n",
              "       width=\"24px\">\n",
              "    <path d=\"M0 0h24v24H0V0z\" fill=\"none\"/>\n",
              "    <path d=\"M18.56 5.44l.94 2.06.94-2.06 2.06-.94-2.06-.94-.94-2.06-.94 2.06-2.06.94zm-11 1L8.5 8.5l.94-2.06 2.06-.94-2.06-.94L8.5 2.5l-.94 2.06-2.06.94zm10 10l.94 2.06.94-2.06 2.06-.94-2.06-.94-.94-2.06-.94 2.06-2.06.94z\"/><path d=\"M17.41 7.96l-1.37-1.37c-.4-.4-.92-.59-1.43-.59-.52 0-1.04.2-1.43.59L10.3 9.45l-7.72 7.72c-.78.78-.78 2.05 0 2.83L4 21.41c.39.39.9.59 1.41.59.51 0 1.02-.2 1.41-.59l7.78-7.78 2.81-2.81c.8-.78.8-2.07 0-2.86zM5.41 20L4 18.59l7.72-7.72 1.47 1.35L5.41 20z\"/>\n",
              "  </svg>\n",
              "      </button>\n",
              "      \n",
              "  <style>\n",
              "    .colab-df-container {\n",
              "      display:flex;\n",
              "      flex-wrap:wrap;\n",
              "      gap: 12px;\n",
              "    }\n",
              "\n",
              "    .colab-df-convert {\n",
              "      background-color: #E8F0FE;\n",
              "      border: none;\n",
              "      border-radius: 50%;\n",
              "      cursor: pointer;\n",
              "      display: none;\n",
              "      fill: #1967D2;\n",
              "      height: 32px;\n",
              "      padding: 0 0 0 0;\n",
              "      width: 32px;\n",
              "    }\n",
              "\n",
              "    .colab-df-convert:hover {\n",
              "      background-color: #E2EBFA;\n",
              "      box-shadow: 0px 1px 2px rgba(60, 64, 67, 0.3), 0px 1px 3px 1px rgba(60, 64, 67, 0.15);\n",
              "      fill: #174EA6;\n",
              "    }\n",
              "\n",
              "    [theme=dark] .colab-df-convert {\n",
              "      background-color: #3B4455;\n",
              "      fill: #D2E3FC;\n",
              "    }\n",
              "\n",
              "    [theme=dark] .colab-df-convert:hover {\n",
              "      background-color: #434B5C;\n",
              "      box-shadow: 0px 1px 3px 1px rgba(0, 0, 0, 0.15);\n",
              "      filter: drop-shadow(0px 1px 2px rgba(0, 0, 0, 0.3));\n",
              "      fill: #FFFFFF;\n",
              "    }\n",
              "  </style>\n",
              "\n",
              "      <script>\n",
              "        const buttonEl =\n",
              "          document.querySelector('#df-e83780f6-c6b6-49ca-ba48-a4d5c7c632c3 button.colab-df-convert');\n",
              "        buttonEl.style.display =\n",
              "          google.colab.kernel.accessAllowed ? 'block' : 'none';\n",
              "\n",
              "        async function convertToInteractive(key) {\n",
              "          const element = document.querySelector('#df-e83780f6-c6b6-49ca-ba48-a4d5c7c632c3');\n",
              "          const dataTable =\n",
              "            await google.colab.kernel.invokeFunction('convertToInteractive',\n",
              "                                                     [key], {});\n",
              "          if (!dataTable) return;\n",
              "\n",
              "          const docLinkHtml = 'Like what you see? Visit the ' +\n",
              "            '<a target=\"_blank\" href=https://colab.research.google.com/notebooks/data_table.ipynb>data table notebook</a>'\n",
              "            + ' to learn more about interactive tables.';\n",
              "          element.innerHTML = '';\n",
              "          dataTable['output_type'] = 'display_data';\n",
              "          await google.colab.output.renderOutput(dataTable, element);\n",
              "          const docLink = document.createElement('div');\n",
              "          docLink.innerHTML = docLinkHtml;\n",
              "          element.appendChild(docLink);\n",
              "        }\n",
              "      </script>\n",
              "    </div>\n",
              "  </div>\n",
              "  "
            ],
            "text/plain": [
              "        txId  time_step  trans_feat_0  trans_feat_1  trans_feat_2  \\\n",
              "0  230425980          1     -0.171469     -0.184668     -1.201369   \n",
              "1    5530458          1     -0.171484     -0.184668     -1.201369   \n",
              "2  232022460          1     -0.172107     -0.184668     -1.201369   \n",
              "3  232438397          1      0.163054      1.963790     -0.646376   \n",
              "4  230460314          1      1.011523     -0.081127     -1.201369   \n",
              "\n",
              "   trans_feat_3  trans_feat_4  trans_feat_5  trans_feat_6  trans_feat_7  ...  \\\n",
              "0     -0.121970     -0.043875     -0.113002     -0.061584     -0.162097  ...   \n",
              "1     -0.121970     -0.043875     -0.113002     -0.061584     -0.162112  ...   \n",
              "2     -0.121970     -0.043875     -0.113002     -0.061584     -0.162749  ...   \n",
              "3     12.409294     -0.063725      9.782742     12.414558     -0.163645  ...   \n",
              "4      1.153668      0.333276      1.312656     -0.061584     -0.163523  ...   \n",
              "\n",
              "   agg_feat_62  agg_feat_63  agg_feat_64  agg_feat_65  agg_feat_66  \\\n",
              "0    -0.562153    -0.600999     1.461330     1.461369     0.018279   \n",
              "1     0.947382     0.673103    -0.979074    -0.978556     0.018279   \n",
              "2     0.670883     0.439728    -0.979074    -0.978556    -0.098889   \n",
              "3    -0.577099    -0.613614     0.241128     0.241406     1.072793   \n",
              "4    -0.511871    -0.400422     0.517257     0.579382     0.018279   \n",
              "\n",
              "   agg_feat_67  agg_feat_68  agg_feat_69  agg_feat_70  agg_feat_71  \n",
              "0    -0.087490    -0.131155    -0.097524    -0.120613    -0.119792  \n",
              "1    -0.087490    -0.131155    -0.097524    -0.120613    -0.119792  \n",
              "2    -0.106715    -0.131155    -0.183671    -0.120613    -0.119792  \n",
              "3     0.085530    -0.131155     0.677799    -0.120613    -0.119792  \n",
              "4     0.277775     0.326394     1.293750     0.178136     0.179117  \n",
              "\n",
              "[5 rows x 167 columns]"
            ]
          },
          "execution_count": 14,
          "metadata": {},
          "output_type": "execute_result"
        }
      ],
      "source": [
        "# renaming columns\n",
        "\n",
        "df_features.columns = ['txId', 'time_step'] + [f'trans_feat_{i}' for i in range(93)] + [f'agg_feat_{i}' for i in range(72)]\n",
        "df_features.head()"
      ]
    },
    {
      "cell_type": "code",
      "execution_count": null,
      "metadata": {
        "colab": {
          "base_uri": "https://localhost:8080/",
          "height": 299
        },
        "id": "xuofmB8cF9GG",
        "outputId": "e8e2ad3c-e070-4d8e-c686-1b8d79988f6e"
      },
      "outputs": [
        {
          "data": {
            "text/html": [
              "\n",
              "  <div id=\"df-be850ffd-04e8-46e7-a410-571896bee90d\">\n",
              "    <div class=\"colab-df-container\">\n",
              "      <div>\n",
              "<style scoped>\n",
              "    .dataframe tbody tr th:only-of-type {\n",
              "        vertical-align: middle;\n",
              "    }\n",
              "\n",
              "    .dataframe tbody tr th {\n",
              "        vertical-align: top;\n",
              "    }\n",
              "\n",
              "    .dataframe thead th {\n",
              "        text-align: right;\n",
              "    }\n",
              "</style>\n",
              "<table border=\"1\" class=\"dataframe\">\n",
              "  <thead>\n",
              "    <tr style=\"text-align: right;\">\n",
              "      <th></th>\n",
              "      <th>txId</th>\n",
              "      <th>time_step</th>\n",
              "      <th>trans_feat_0</th>\n",
              "      <th>trans_feat_1</th>\n",
              "      <th>trans_feat_2</th>\n",
              "      <th>trans_feat_3</th>\n",
              "      <th>trans_feat_4</th>\n",
              "      <th>trans_feat_5</th>\n",
              "      <th>trans_feat_6</th>\n",
              "      <th>trans_feat_7</th>\n",
              "      <th>...</th>\n",
              "      <th>trans_feat_83</th>\n",
              "      <th>trans_feat_84</th>\n",
              "      <th>trans_feat_85</th>\n",
              "      <th>trans_feat_86</th>\n",
              "      <th>trans_feat_87</th>\n",
              "      <th>trans_feat_88</th>\n",
              "      <th>trans_feat_89</th>\n",
              "      <th>trans_feat_90</th>\n",
              "      <th>trans_feat_91</th>\n",
              "      <th>trans_feat_92</th>\n",
              "    </tr>\n",
              "  </thead>\n",
              "  <tbody>\n",
              "    <tr>\n",
              "      <th>0</th>\n",
              "      <td>230425980</td>\n",
              "      <td>1</td>\n",
              "      <td>-0.171469</td>\n",
              "      <td>-0.184668</td>\n",
              "      <td>-1.201369</td>\n",
              "      <td>-0.121970</td>\n",
              "      <td>-0.043875</td>\n",
              "      <td>-0.113002</td>\n",
              "      <td>-0.061584</td>\n",
              "      <td>-0.162097</td>\n",
              "      <td>...</td>\n",
              "      <td>-0.255111</td>\n",
              "      <td>-0.259194</td>\n",
              "      <td>1.125590</td>\n",
              "      <td>1.128038</td>\n",
              "      <td>-0.293773</td>\n",
              "      <td>-0.159732</td>\n",
              "      <td>0.034039</td>\n",
              "      <td>-0.183816</td>\n",
              "      <td>1.135523</td>\n",
              "      <td>1.135279</td>\n",
              "    </tr>\n",
              "    <tr>\n",
              "      <th>1</th>\n",
              "      <td>5530458</td>\n",
              "      <td>1</td>\n",
              "      <td>-0.171484</td>\n",
              "      <td>-0.184668</td>\n",
              "      <td>-1.201369</td>\n",
              "      <td>-0.121970</td>\n",
              "      <td>-0.043875</td>\n",
              "      <td>-0.113002</td>\n",
              "      <td>-0.061584</td>\n",
              "      <td>-0.162112</td>\n",
              "      <td>...</td>\n",
              "      <td>-0.255168</td>\n",
              "      <td>-0.259251</td>\n",
              "      <td>-0.187191</td>\n",
              "      <td>-0.185274</td>\n",
              "      <td>-0.293692</td>\n",
              "      <td>-0.760700</td>\n",
              "      <td>-0.692777</td>\n",
              "      <td>-0.719789</td>\n",
              "      <td>-1.084907</td>\n",
              "      <td>-1.084845</td>\n",
              "    </tr>\n",
              "    <tr>\n",
              "      <th>2</th>\n",
              "      <td>232022460</td>\n",
              "      <td>1</td>\n",
              "      <td>-0.172107</td>\n",
              "      <td>-0.184668</td>\n",
              "      <td>-1.201369</td>\n",
              "      <td>-0.121970</td>\n",
              "      <td>-0.043875</td>\n",
              "      <td>-0.113002</td>\n",
              "      <td>-0.061584</td>\n",
              "      <td>-0.162749</td>\n",
              "      <td>...</td>\n",
              "      <td>-0.254373</td>\n",
              "      <td>-0.258387</td>\n",
              "      <td>-1.499972</td>\n",
              "      <td>-1.498585</td>\n",
              "      <td>-0.021809</td>\n",
              "      <td>1.936814</td>\n",
              "      <td>2.448785</td>\n",
              "      <td>1.775108</td>\n",
              "      <td>-1.084907</td>\n",
              "      <td>-1.084845</td>\n",
              "    </tr>\n",
              "    <tr>\n",
              "      <th>3</th>\n",
              "      <td>232438397</td>\n",
              "      <td>1</td>\n",
              "      <td>0.163054</td>\n",
              "      <td>1.963790</td>\n",
              "      <td>-0.646376</td>\n",
              "      <td>12.409294</td>\n",
              "      <td>-0.063725</td>\n",
              "      <td>9.782742</td>\n",
              "      <td>12.414558</td>\n",
              "      <td>-0.163645</td>\n",
              "      <td>...</td>\n",
              "      <td>-0.255168</td>\n",
              "      <td>0.717108</td>\n",
              "      <td>-0.187191</td>\n",
              "      <td>-0.185274</td>\n",
              "      <td>3.991587</td>\n",
              "      <td>0.810879</td>\n",
              "      <td>-0.694235</td>\n",
              "      <td>2.084651</td>\n",
              "      <td>0.025308</td>\n",
              "      <td>0.025217</td>\n",
              "    </tr>\n",
              "    <tr>\n",
              "      <th>4</th>\n",
              "      <td>230460314</td>\n",
              "      <td>1</td>\n",
              "      <td>1.011523</td>\n",
              "      <td>-0.081127</td>\n",
              "      <td>-1.201369</td>\n",
              "      <td>1.153668</td>\n",
              "      <td>0.333276</td>\n",
              "      <td>1.312656</td>\n",
              "      <td>-0.061584</td>\n",
              "      <td>-0.163523</td>\n",
              "      <td>...</td>\n",
              "      <td>-0.255162</td>\n",
              "      <td>-0.259249</td>\n",
              "      <td>-0.696206</td>\n",
              "      <td>-0.714093</td>\n",
              "      <td>-0.293897</td>\n",
              "      <td>-0.761399</td>\n",
              "      <td>-0.693922</td>\n",
              "      <td>-0.720790</td>\n",
              "      <td>-0.487315</td>\n",
              "      <td>-0.563089</td>\n",
              "    </tr>\n",
              "  </tbody>\n",
              "</table>\n",
              "<p>5 rows × 95 columns</p>\n",
              "</div>\n",
              "      <button class=\"colab-df-convert\" onclick=\"convertToInteractive('df-be850ffd-04e8-46e7-a410-571896bee90d')\"\n",
              "              title=\"Convert this dataframe to an interactive table.\"\n",
              "              style=\"display:none;\">\n",
              "        \n",
              "  <svg xmlns=\"http://www.w3.org/2000/svg\" height=\"24px\"viewBox=\"0 0 24 24\"\n",
              "       width=\"24px\">\n",
              "    <path d=\"M0 0h24v24H0V0z\" fill=\"none\"/>\n",
              "    <path d=\"M18.56 5.44l.94 2.06.94-2.06 2.06-.94-2.06-.94-.94-2.06-.94 2.06-2.06.94zm-11 1L8.5 8.5l.94-2.06 2.06-.94-2.06-.94L8.5 2.5l-.94 2.06-2.06.94zm10 10l.94 2.06.94-2.06 2.06-.94-2.06-.94-.94-2.06-.94 2.06-2.06.94z\"/><path d=\"M17.41 7.96l-1.37-1.37c-.4-.4-.92-.59-1.43-.59-.52 0-1.04.2-1.43.59L10.3 9.45l-7.72 7.72c-.78.78-.78 2.05 0 2.83L4 21.41c.39.39.9.59 1.41.59.51 0 1.02-.2 1.41-.59l7.78-7.78 2.81-2.81c.8-.78.8-2.07 0-2.86zM5.41 20L4 18.59l7.72-7.72 1.47 1.35L5.41 20z\"/>\n",
              "  </svg>\n",
              "      </button>\n",
              "      \n",
              "  <style>\n",
              "    .colab-df-container {\n",
              "      display:flex;\n",
              "      flex-wrap:wrap;\n",
              "      gap: 12px;\n",
              "    }\n",
              "\n",
              "    .colab-df-convert {\n",
              "      background-color: #E8F0FE;\n",
              "      border: none;\n",
              "      border-radius: 50%;\n",
              "      cursor: pointer;\n",
              "      display: none;\n",
              "      fill: #1967D2;\n",
              "      height: 32px;\n",
              "      padding: 0 0 0 0;\n",
              "      width: 32px;\n",
              "    }\n",
              "\n",
              "    .colab-df-convert:hover {\n",
              "      background-color: #E2EBFA;\n",
              "      box-shadow: 0px 1px 2px rgba(60, 64, 67, 0.3), 0px 1px 3px 1px rgba(60, 64, 67, 0.15);\n",
              "      fill: #174EA6;\n",
              "    }\n",
              "\n",
              "    [theme=dark] .colab-df-convert {\n",
              "      background-color: #3B4455;\n",
              "      fill: #D2E3FC;\n",
              "    }\n",
              "\n",
              "    [theme=dark] .colab-df-convert:hover {\n",
              "      background-color: #434B5C;\n",
              "      box-shadow: 0px 1px 3px 1px rgba(0, 0, 0, 0.15);\n",
              "      filter: drop-shadow(0px 1px 2px rgba(0, 0, 0, 0.3));\n",
              "      fill: #FFFFFF;\n",
              "    }\n",
              "  </style>\n",
              "\n",
              "      <script>\n",
              "        const buttonEl =\n",
              "          document.querySelector('#df-be850ffd-04e8-46e7-a410-571896bee90d button.colab-df-convert');\n",
              "        buttonEl.style.display =\n",
              "          google.colab.kernel.accessAllowed ? 'block' : 'none';\n",
              "\n",
              "        async function convertToInteractive(key) {\n",
              "          const element = document.querySelector('#df-be850ffd-04e8-46e7-a410-571896bee90d');\n",
              "          const dataTable =\n",
              "            await google.colab.kernel.invokeFunction('convertToInteractive',\n",
              "                                                     [key], {});\n",
              "          if (!dataTable) return;\n",
              "\n",
              "          const docLinkHtml = 'Like what you see? Visit the ' +\n",
              "            '<a target=\"_blank\" href=https://colab.research.google.com/notebooks/data_table.ipynb>data table notebook</a>'\n",
              "            + ' to learn more about interactive tables.';\n",
              "          element.innerHTML = '';\n",
              "          dataTable['output_type'] = 'display_data';\n",
              "          await google.colab.output.renderOutput(dataTable, element);\n",
              "          const docLink = document.createElement('div');\n",
              "          docLink.innerHTML = docLinkHtml;\n",
              "          element.appendChild(docLink);\n",
              "        }\n",
              "      </script>\n",
              "    </div>\n",
              "  </div>\n",
              "  "
            ],
            "text/plain": [
              "        txId  time_step  trans_feat_0  trans_feat_1  trans_feat_2  \\\n",
              "0  230425980          1     -0.171469     -0.184668     -1.201369   \n",
              "1    5530458          1     -0.171484     -0.184668     -1.201369   \n",
              "2  232022460          1     -0.172107     -0.184668     -1.201369   \n",
              "3  232438397          1      0.163054      1.963790     -0.646376   \n",
              "4  230460314          1      1.011523     -0.081127     -1.201369   \n",
              "\n",
              "   trans_feat_3  trans_feat_4  trans_feat_5  trans_feat_6  trans_feat_7  ...  \\\n",
              "0     -0.121970     -0.043875     -0.113002     -0.061584     -0.162097  ...   \n",
              "1     -0.121970     -0.043875     -0.113002     -0.061584     -0.162112  ...   \n",
              "2     -0.121970     -0.043875     -0.113002     -0.061584     -0.162749  ...   \n",
              "3     12.409294     -0.063725      9.782742     12.414558     -0.163645  ...   \n",
              "4      1.153668      0.333276      1.312656     -0.061584     -0.163523  ...   \n",
              "\n",
              "   trans_feat_83  trans_feat_84  trans_feat_85  trans_feat_86  trans_feat_87  \\\n",
              "0      -0.255111      -0.259194       1.125590       1.128038      -0.293773   \n",
              "1      -0.255168      -0.259251      -0.187191      -0.185274      -0.293692   \n",
              "2      -0.254373      -0.258387      -1.499972      -1.498585      -0.021809   \n",
              "3      -0.255168       0.717108      -0.187191      -0.185274       3.991587   \n",
              "4      -0.255162      -0.259249      -0.696206      -0.714093      -0.293897   \n",
              "\n",
              "   trans_feat_88  trans_feat_89  trans_feat_90  trans_feat_91  trans_feat_92  \n",
              "0      -0.159732       0.034039      -0.183816       1.135523       1.135279  \n",
              "1      -0.760700      -0.692777      -0.719789      -1.084907      -1.084845  \n",
              "2       1.936814       2.448785       1.775108      -1.084907      -1.084845  \n",
              "3       0.810879      -0.694235       2.084651       0.025308       0.025217  \n",
              "4      -0.761399      -0.693922      -0.720790      -0.487315      -0.563089  \n",
              "\n",
              "[5 rows x 95 columns]"
            ]
          },
          "execution_count": 15,
          "metadata": {},
          "output_type": "execute_result"
        }
      ],
      "source": [
        "df_local_features = df_features.iloc[:,:95]\n",
        "df_local_features.head()"
      ]
    },
    {
      "cell_type": "code",
      "execution_count": null,
      "metadata": {
        "colab": {
          "base_uri": "https://localhost:8080/"
        },
        "id": "j8QaUm_UuKxB",
        "outputId": "73e8ae34-fa72-4038-ec8c-6e2b37863662"
      },
      "outputs": [
        {
          "name": "stdout",
          "output_type": "stream",
          "text": [
            "torch.Size([203769, 165])\n"
          ]
        }
      ],
      "source": [
        "# all features\n",
        "\n",
        "x= torch.from_numpy(df_features.iloc[:, 2:].values).to(torch.float) #excluding time step\n",
        "print(x.shape)"
      ]
    },
    {
      "cell_type": "code",
      "execution_count": null,
      "metadata": {
        "colab": {
          "base_uri": "https://localhost:8080/"
        },
        "id": "PrHILbW5iANK",
        "outputId": "804b64f0-e426-412c-fc34-aeb51262900d"
      },
      "outputs": [
        {
          "name": "stdout",
          "output_type": "stream",
          "text": [
            "torch.Size([203769, 93])\n"
          ]
        }
      ],
      "source": [
        "# local features\n",
        "\n",
        "x_local = torch.from_numpy(df_local_features.iloc[:, 2:].values).to(torch.float) #excluding time step\n",
        "print(x_local.shape)"
      ]
    },
    {
      "cell_type": "code",
      "execution_count": null,
      "metadata": {
        "colab": {
          "base_uri": "https://localhost:8080/"
        },
        "id": "J0d90dEAukOp",
        "outputId": "6702d793-1265-46cc-b03a-11a7c14f9017"
      },
      "outputs": [
        {
          "name": "stdout",
          "output_type": "stream",
          "text": [
            "torch.Size([2, 234355])\n"
          ]
        }
      ],
      "source": [
        "# transform edgelist to edge_index in COO format\n",
        "\n",
        "mapping = {idx: i for i, idx in enumerate(df_features['txId'].values)}\n",
        "df_edgelist['txId1'] = df_edgelist['txId1'].map(mapping)\n",
        "df_edgelist['txId2'] = df_edgelist['txId2'].map(mapping)\n",
        "edge_index = torch.from_numpy(df_edgelist.values).t().contiguous()\n",
        "print(edge_index.shape)"
      ]
    },
    {
      "cell_type": "code",
      "execution_count": null,
      "metadata": {
        "id": "o1HziYRx_S9F"
      },
      "outputs": [],
      "source": [
        "# create train and test mask\n",
        "\n",
        "time_step = torch.from_numpy(df_features['time_step'].values)\n",
        "train_mask = (time_step < 35) & (y != 2)\n",
        "test_mask = (time_step >= 35) & (y != 2)"
      ]
    },
    {
      "cell_type": "code",
      "execution_count": null,
      "metadata": {
        "colab": {
          "base_uri": "https://localhost:8080/"
        },
        "id": "JLHoS-OQu9Qe",
        "outputId": "b3bac6a7-2b64-475e-97a7-a7e67d3acb51"
      },
      "outputs": [
        {
          "name": "stdout",
          "output_type": "stream",
          "text": [
            "(tensor([False,  True]), tensor([173875,  29894]))\n",
            "(tensor([False,  True]), tensor([187099,  16670]))\n"
          ]
        }
      ],
      "source": [
        "print(train_mask.unique(return_counts=True))\n",
        "print(test_mask.unique(return_counts=True))"
      ]
    },
    {
      "cell_type": "code",
      "execution_count": null,
      "metadata": {
        "id": "mZulrRcJveNH"
      },
      "outputs": [],
      "source": [
        "# load data into data object\n",
        "\n",
        "data = Data(x=x, edge_index=edge_index, y=y, train_mask=train_mask,\n",
        "                    test_mask=test_mask)\n",
        "\n",
        "num_features = x.shape[1]\n",
        "num_classes= len(y[test_mask].unique())"
      ]
    },
    {
      "cell_type": "code",
      "execution_count": null,
      "metadata": {
        "colab": {
          "base_uri": "https://localhost:8080/"
        },
        "id": "iuAVOP-5vzpS",
        "outputId": "2b88fc98-70d5-4cf2-dda9-5ac31187c49c"
      },
      "outputs": [
        {
          "name": "stdout",
          "output_type": "stream",
          "text": [
            "Data(x=[203769, 165], edge_index=[2, 234355], y=[203769], train_mask=[203769], test_mask=[203769])\n",
            "===========================================================================================================\n",
            "Number of features: 165\n",
            "Number of classes: 2\n",
            "Number of nodes: 203769\n",
            "Number of edges: 234355\n",
            "Number of training nodes: 29894\n",
            "Training node label rate: 0.15\n",
            "Has isolated nodes: False\n",
            "Has self-loops: False\n",
            "Is undirected: False\n"
          ]
        }
      ],
      "source": [
        "# data overview\n",
        "\n",
        "print(data)\n",
        "print('===========================================================================================================')\n",
        "print(f'Number of features: {num_features}')\n",
        "print(f'Number of classes: {num_classes}')\n",
        "print(f'Number of nodes: {data.num_nodes}')\n",
        "print(f'Number of edges: {data.num_edges}')\n",
        "print(f'Number of training nodes: {data.train_mask.sum()}')\n",
        "print(f'Training node label rate: {int(data.train_mask.sum()) / data.num_nodes:.2f}')\n",
        "print(f'Has isolated nodes: {data.has_isolated_nodes()}')\n",
        "print(f'Has self-loops: {data.has_self_loops()}')\n",
        "print(f'Is undirected: {data.is_undirected()}')"
      ]
    },
    {
      "cell_type": "code",
      "execution_count": null,
      "metadata": {
        "colab": {
          "base_uri": "https://localhost:8080/",
          "height": 299
        },
        "id": "lQapeKB5yT0d",
        "outputId": "38765bc4-1b6f-459b-cf16-c4e861206d3b"
      },
      "outputs": [
        {
          "data": {
            "text/html": [
              "\n",
              "  <div id=\"df-06566024-42e7-4cf2-8f31-de87a0384df4\">\n",
              "    <div class=\"colab-df-container\">\n",
              "      <div>\n",
              "<style scoped>\n",
              "    .dataframe tbody tr th:only-of-type {\n",
              "        vertical-align: middle;\n",
              "    }\n",
              "\n",
              "    .dataframe tbody tr th {\n",
              "        vertical-align: top;\n",
              "    }\n",
              "\n",
              "    .dataframe thead th {\n",
              "        text-align: right;\n",
              "    }\n",
              "</style>\n",
              "<table border=\"1\" class=\"dataframe\">\n",
              "  <thead>\n",
              "    <tr style=\"text-align: right;\">\n",
              "      <th></th>\n",
              "      <th>txId</th>\n",
              "      <th>class</th>\n",
              "      <th>time_step</th>\n",
              "      <th>trans_feat_0</th>\n",
              "      <th>trans_feat_1</th>\n",
              "      <th>trans_feat_2</th>\n",
              "      <th>trans_feat_3</th>\n",
              "      <th>trans_feat_4</th>\n",
              "      <th>trans_feat_5</th>\n",
              "      <th>trans_feat_6</th>\n",
              "      <th>...</th>\n",
              "      <th>agg_feat_62</th>\n",
              "      <th>agg_feat_63</th>\n",
              "      <th>agg_feat_64</th>\n",
              "      <th>agg_feat_65</th>\n",
              "      <th>agg_feat_66</th>\n",
              "      <th>agg_feat_67</th>\n",
              "      <th>agg_feat_68</th>\n",
              "      <th>agg_feat_69</th>\n",
              "      <th>agg_feat_70</th>\n",
              "      <th>agg_feat_71</th>\n",
              "    </tr>\n",
              "  </thead>\n",
              "  <tbody>\n",
              "    <tr>\n",
              "      <th>0</th>\n",
              "      <td>230425980</td>\n",
              "      <td>2</td>\n",
              "      <td>1</td>\n",
              "      <td>-0.171469</td>\n",
              "      <td>-0.184668</td>\n",
              "      <td>-1.201369</td>\n",
              "      <td>-0.121970</td>\n",
              "      <td>-0.043875</td>\n",
              "      <td>-0.113002</td>\n",
              "      <td>-0.061584</td>\n",
              "      <td>...</td>\n",
              "      <td>-0.562153</td>\n",
              "      <td>-0.600999</td>\n",
              "      <td>1.461330</td>\n",
              "      <td>1.461369</td>\n",
              "      <td>0.018279</td>\n",
              "      <td>-0.087490</td>\n",
              "      <td>-0.131155</td>\n",
              "      <td>-0.097524</td>\n",
              "      <td>-0.120613</td>\n",
              "      <td>-0.119792</td>\n",
              "    </tr>\n",
              "    <tr>\n",
              "      <th>1</th>\n",
              "      <td>5530458</td>\n",
              "      <td>2</td>\n",
              "      <td>1</td>\n",
              "      <td>-0.171484</td>\n",
              "      <td>-0.184668</td>\n",
              "      <td>-1.201369</td>\n",
              "      <td>-0.121970</td>\n",
              "      <td>-0.043875</td>\n",
              "      <td>-0.113002</td>\n",
              "      <td>-0.061584</td>\n",
              "      <td>...</td>\n",
              "      <td>0.947382</td>\n",
              "      <td>0.673103</td>\n",
              "      <td>-0.979074</td>\n",
              "      <td>-0.978556</td>\n",
              "      <td>0.018279</td>\n",
              "      <td>-0.087490</td>\n",
              "      <td>-0.131155</td>\n",
              "      <td>-0.097524</td>\n",
              "      <td>-0.120613</td>\n",
              "      <td>-0.119792</td>\n",
              "    </tr>\n",
              "    <tr>\n",
              "      <th>2</th>\n",
              "      <td>232022460</td>\n",
              "      <td>2</td>\n",
              "      <td>1</td>\n",
              "      <td>-0.172107</td>\n",
              "      <td>-0.184668</td>\n",
              "      <td>-1.201369</td>\n",
              "      <td>-0.121970</td>\n",
              "      <td>-0.043875</td>\n",
              "      <td>-0.113002</td>\n",
              "      <td>-0.061584</td>\n",
              "      <td>...</td>\n",
              "      <td>0.670883</td>\n",
              "      <td>0.439728</td>\n",
              "      <td>-0.979074</td>\n",
              "      <td>-0.978556</td>\n",
              "      <td>-0.098889</td>\n",
              "      <td>-0.106715</td>\n",
              "      <td>-0.131155</td>\n",
              "      <td>-0.183671</td>\n",
              "      <td>-0.120613</td>\n",
              "      <td>-0.119792</td>\n",
              "    </tr>\n",
              "    <tr>\n",
              "      <th>3</th>\n",
              "      <td>232438397</td>\n",
              "      <td>0</td>\n",
              "      <td>1</td>\n",
              "      <td>0.163054</td>\n",
              "      <td>1.963790</td>\n",
              "      <td>-0.646376</td>\n",
              "      <td>12.409294</td>\n",
              "      <td>-0.063725</td>\n",
              "      <td>9.782742</td>\n",
              "      <td>12.414558</td>\n",
              "      <td>...</td>\n",
              "      <td>-0.577099</td>\n",
              "      <td>-0.613614</td>\n",
              "      <td>0.241128</td>\n",
              "      <td>0.241406</td>\n",
              "      <td>1.072793</td>\n",
              "      <td>0.085530</td>\n",
              "      <td>-0.131155</td>\n",
              "      <td>0.677799</td>\n",
              "      <td>-0.120613</td>\n",
              "      <td>-0.119792</td>\n",
              "    </tr>\n",
              "    <tr>\n",
              "      <th>4</th>\n",
              "      <td>230460314</td>\n",
              "      <td>2</td>\n",
              "      <td>1</td>\n",
              "      <td>1.011523</td>\n",
              "      <td>-0.081127</td>\n",
              "      <td>-1.201369</td>\n",
              "      <td>1.153668</td>\n",
              "      <td>0.333276</td>\n",
              "      <td>1.312656</td>\n",
              "      <td>-0.061584</td>\n",
              "      <td>...</td>\n",
              "      <td>-0.511871</td>\n",
              "      <td>-0.400422</td>\n",
              "      <td>0.517257</td>\n",
              "      <td>0.579382</td>\n",
              "      <td>0.018279</td>\n",
              "      <td>0.277775</td>\n",
              "      <td>0.326394</td>\n",
              "      <td>1.293750</td>\n",
              "      <td>0.178136</td>\n",
              "      <td>0.179117</td>\n",
              "    </tr>\n",
              "  </tbody>\n",
              "</table>\n",
              "<p>5 rows × 168 columns</p>\n",
              "</div>\n",
              "      <button class=\"colab-df-convert\" onclick=\"convertToInteractive('df-06566024-42e7-4cf2-8f31-de87a0384df4')\"\n",
              "              title=\"Convert this dataframe to an interactive table.\"\n",
              "              style=\"display:none;\">\n",
              "        \n",
              "  <svg xmlns=\"http://www.w3.org/2000/svg\" height=\"24px\"viewBox=\"0 0 24 24\"\n",
              "       width=\"24px\">\n",
              "    <path d=\"M0 0h24v24H0V0z\" fill=\"none\"/>\n",
              "    <path d=\"M18.56 5.44l.94 2.06.94-2.06 2.06-.94-2.06-.94-.94-2.06-.94 2.06-2.06.94zm-11 1L8.5 8.5l.94-2.06 2.06-.94-2.06-.94L8.5 2.5l-.94 2.06-2.06.94zm10 10l.94 2.06.94-2.06 2.06-.94-2.06-.94-.94-2.06-.94 2.06-2.06.94z\"/><path d=\"M17.41 7.96l-1.37-1.37c-.4-.4-.92-.59-1.43-.59-.52 0-1.04.2-1.43.59L10.3 9.45l-7.72 7.72c-.78.78-.78 2.05 0 2.83L4 21.41c.39.39.9.59 1.41.59.51 0 1.02-.2 1.41-.59l7.78-7.78 2.81-2.81c.8-.78.8-2.07 0-2.86zM5.41 20L4 18.59l7.72-7.72 1.47 1.35L5.41 20z\"/>\n",
              "  </svg>\n",
              "      </button>\n",
              "      \n",
              "  <style>\n",
              "    .colab-df-container {\n",
              "      display:flex;\n",
              "      flex-wrap:wrap;\n",
              "      gap: 12px;\n",
              "    }\n",
              "\n",
              "    .colab-df-convert {\n",
              "      background-color: #E8F0FE;\n",
              "      border: none;\n",
              "      border-radius: 50%;\n",
              "      cursor: pointer;\n",
              "      display: none;\n",
              "      fill: #1967D2;\n",
              "      height: 32px;\n",
              "      padding: 0 0 0 0;\n",
              "      width: 32px;\n",
              "    }\n",
              "\n",
              "    .colab-df-convert:hover {\n",
              "      background-color: #E2EBFA;\n",
              "      box-shadow: 0px 1px 2px rgba(60, 64, 67, 0.3), 0px 1px 3px 1px rgba(60, 64, 67, 0.15);\n",
              "      fill: #174EA6;\n",
              "    }\n",
              "\n",
              "    [theme=dark] .colab-df-convert {\n",
              "      background-color: #3B4455;\n",
              "      fill: #D2E3FC;\n",
              "    }\n",
              "\n",
              "    [theme=dark] .colab-df-convert:hover {\n",
              "      background-color: #434B5C;\n",
              "      box-shadow: 0px 1px 3px 1px rgba(0, 0, 0, 0.15);\n",
              "      filter: drop-shadow(0px 1px 2px rgba(0, 0, 0, 0.3));\n",
              "      fill: #FFFFFF;\n",
              "    }\n",
              "  </style>\n",
              "\n",
              "      <script>\n",
              "        const buttonEl =\n",
              "          document.querySelector('#df-06566024-42e7-4cf2-8f31-de87a0384df4 button.colab-df-convert');\n",
              "        buttonEl.style.display =\n",
              "          google.colab.kernel.accessAllowed ? 'block' : 'none';\n",
              "\n",
              "        async function convertToInteractive(key) {\n",
              "          const element = document.querySelector('#df-06566024-42e7-4cf2-8f31-de87a0384df4');\n",
              "          const dataTable =\n",
              "            await google.colab.kernel.invokeFunction('convertToInteractive',\n",
              "                                                     [key], {});\n",
              "          if (!dataTable) return;\n",
              "\n",
              "          const docLinkHtml = 'Like what you see? Visit the ' +\n",
              "            '<a target=\"_blank\" href=https://colab.research.google.com/notebooks/data_table.ipynb>data table notebook</a>'\n",
              "            + ' to learn more about interactive tables.';\n",
              "          element.innerHTML = '';\n",
              "          dataTable['output_type'] = 'display_data';\n",
              "          await google.colab.output.renderOutput(dataTable, element);\n",
              "          const docLink = document.createElement('div');\n",
              "          docLink.innerHTML = docLinkHtml;\n",
              "          element.appendChild(docLink);\n",
              "        }\n",
              "      </script>\n",
              "    </div>\n",
              "  </div>\n",
              "  "
            ],
            "text/plain": [
              "        txId  class  time_step  trans_feat_0  trans_feat_1  trans_feat_2  \\\n",
              "0  230425980      2          1     -0.171469     -0.184668     -1.201369   \n",
              "1    5530458      2          1     -0.171484     -0.184668     -1.201369   \n",
              "2  232022460      2          1     -0.172107     -0.184668     -1.201369   \n",
              "3  232438397      0          1      0.163054      1.963790     -0.646376   \n",
              "4  230460314      2          1      1.011523     -0.081127     -1.201369   \n",
              "\n",
              "   trans_feat_3  trans_feat_4  trans_feat_5  trans_feat_6  ...  agg_feat_62  \\\n",
              "0     -0.121970     -0.043875     -0.113002     -0.061584  ...    -0.562153   \n",
              "1     -0.121970     -0.043875     -0.113002     -0.061584  ...     0.947382   \n",
              "2     -0.121970     -0.043875     -0.113002     -0.061584  ...     0.670883   \n",
              "3     12.409294     -0.063725      9.782742     12.414558  ...    -0.577099   \n",
              "4      1.153668      0.333276      1.312656     -0.061584  ...    -0.511871   \n",
              "\n",
              "   agg_feat_63  agg_feat_64  agg_feat_65  agg_feat_66  agg_feat_67  \\\n",
              "0    -0.600999     1.461330     1.461369     0.018279    -0.087490   \n",
              "1     0.673103    -0.979074    -0.978556     0.018279    -0.087490   \n",
              "2     0.439728    -0.979074    -0.978556    -0.098889    -0.106715   \n",
              "3    -0.613614     0.241128     0.241406     1.072793     0.085530   \n",
              "4    -0.400422     0.517257     0.579382     0.018279     0.277775   \n",
              "\n",
              "   agg_feat_68  agg_feat_69  agg_feat_70  agg_feat_71  \n",
              "0    -0.131155    -0.097524    -0.120613    -0.119792  \n",
              "1    -0.131155    -0.097524    -0.120613    -0.119792  \n",
              "2    -0.131155    -0.183671    -0.120613    -0.119792  \n",
              "3    -0.131155     0.677799    -0.120613    -0.119792  \n",
              "4     0.326394     1.293750     0.178136     0.179117  \n",
              "\n",
              "[5 rows x 168 columns]"
            ]
          },
          "execution_count": 23,
          "metadata": {},
          "output_type": "execute_result"
        }
      ],
      "source": [
        "df_class_features = pd.merge(df_classes, df_features)\n",
        "df_class_features.head()"
      ]
    },
    {
      "cell_type": "code",
      "execution_count": null,
      "metadata": {
        "id": "2dpTewDpinKs"
      },
      "outputs": [],
      "source": [
        "# create data object with local features only\n",
        "\n",
        "data_local = Data(x=x_local, edge_index=edge_index, y=y, train_mask=train_mask,\n",
        "                    test_mask=test_mask)\n",
        "\n",
        "num_features_local = x_local.shape[1]\n",
        "num_classes= len(y[test_mask].unique())"
      ]
    },
    {
      "cell_type": "code",
      "execution_count": null,
      "metadata": {
        "colab": {
          "base_uri": "https://localhost:8080/",
          "height": 299
        },
        "id": "P7pXza5THPHx",
        "outputId": "25e1c8f2-b8f1-4ed5-8aa9-eeaf21b88613"
      },
      "outputs": [
        {
          "data": {
            "text/html": [
              "\n",
              "  <div id=\"df-bb5fe9bf-b862-4498-a98c-ec5fa7ced8a8\">\n",
              "    <div class=\"colab-df-container\">\n",
              "      <div>\n",
              "<style scoped>\n",
              "    .dataframe tbody tr th:only-of-type {\n",
              "        vertical-align: middle;\n",
              "    }\n",
              "\n",
              "    .dataframe tbody tr th {\n",
              "        vertical-align: top;\n",
              "    }\n",
              "\n",
              "    .dataframe thead th {\n",
              "        text-align: right;\n",
              "    }\n",
              "</style>\n",
              "<table border=\"1\" class=\"dataframe\">\n",
              "  <thead>\n",
              "    <tr style=\"text-align: right;\">\n",
              "      <th></th>\n",
              "      <th>txId</th>\n",
              "      <th>class</th>\n",
              "      <th>time_step</th>\n",
              "      <th>trans_feat_0</th>\n",
              "      <th>trans_feat_1</th>\n",
              "      <th>trans_feat_2</th>\n",
              "      <th>trans_feat_3</th>\n",
              "      <th>trans_feat_4</th>\n",
              "      <th>trans_feat_5</th>\n",
              "      <th>trans_feat_6</th>\n",
              "      <th>...</th>\n",
              "      <th>trans_feat_83</th>\n",
              "      <th>trans_feat_84</th>\n",
              "      <th>trans_feat_85</th>\n",
              "      <th>trans_feat_86</th>\n",
              "      <th>trans_feat_87</th>\n",
              "      <th>trans_feat_88</th>\n",
              "      <th>trans_feat_89</th>\n",
              "      <th>trans_feat_90</th>\n",
              "      <th>trans_feat_91</th>\n",
              "      <th>trans_feat_92</th>\n",
              "    </tr>\n",
              "  </thead>\n",
              "  <tbody>\n",
              "    <tr>\n",
              "      <th>0</th>\n",
              "      <td>230425980</td>\n",
              "      <td>2</td>\n",
              "      <td>1</td>\n",
              "      <td>-0.171469</td>\n",
              "      <td>-0.184668</td>\n",
              "      <td>-1.201369</td>\n",
              "      <td>-0.121970</td>\n",
              "      <td>-0.043875</td>\n",
              "      <td>-0.113002</td>\n",
              "      <td>-0.061584</td>\n",
              "      <td>...</td>\n",
              "      <td>-0.255111</td>\n",
              "      <td>-0.259194</td>\n",
              "      <td>1.125590</td>\n",
              "      <td>1.128038</td>\n",
              "      <td>-0.293773</td>\n",
              "      <td>-0.159732</td>\n",
              "      <td>0.034039</td>\n",
              "      <td>-0.183816</td>\n",
              "      <td>1.135523</td>\n",
              "      <td>1.135279</td>\n",
              "    </tr>\n",
              "    <tr>\n",
              "      <th>1</th>\n",
              "      <td>5530458</td>\n",
              "      <td>2</td>\n",
              "      <td>1</td>\n",
              "      <td>-0.171484</td>\n",
              "      <td>-0.184668</td>\n",
              "      <td>-1.201369</td>\n",
              "      <td>-0.121970</td>\n",
              "      <td>-0.043875</td>\n",
              "      <td>-0.113002</td>\n",
              "      <td>-0.061584</td>\n",
              "      <td>...</td>\n",
              "      <td>-0.255168</td>\n",
              "      <td>-0.259251</td>\n",
              "      <td>-0.187191</td>\n",
              "      <td>-0.185274</td>\n",
              "      <td>-0.293692</td>\n",
              "      <td>-0.760700</td>\n",
              "      <td>-0.692777</td>\n",
              "      <td>-0.719789</td>\n",
              "      <td>-1.084907</td>\n",
              "      <td>-1.084845</td>\n",
              "    </tr>\n",
              "    <tr>\n",
              "      <th>2</th>\n",
              "      <td>232022460</td>\n",
              "      <td>2</td>\n",
              "      <td>1</td>\n",
              "      <td>-0.172107</td>\n",
              "      <td>-0.184668</td>\n",
              "      <td>-1.201369</td>\n",
              "      <td>-0.121970</td>\n",
              "      <td>-0.043875</td>\n",
              "      <td>-0.113002</td>\n",
              "      <td>-0.061584</td>\n",
              "      <td>...</td>\n",
              "      <td>-0.254373</td>\n",
              "      <td>-0.258387</td>\n",
              "      <td>-1.499972</td>\n",
              "      <td>-1.498585</td>\n",
              "      <td>-0.021809</td>\n",
              "      <td>1.936814</td>\n",
              "      <td>2.448785</td>\n",
              "      <td>1.775108</td>\n",
              "      <td>-1.084907</td>\n",
              "      <td>-1.084845</td>\n",
              "    </tr>\n",
              "    <tr>\n",
              "      <th>3</th>\n",
              "      <td>232438397</td>\n",
              "      <td>0</td>\n",
              "      <td>1</td>\n",
              "      <td>0.163054</td>\n",
              "      <td>1.963790</td>\n",
              "      <td>-0.646376</td>\n",
              "      <td>12.409294</td>\n",
              "      <td>-0.063725</td>\n",
              "      <td>9.782742</td>\n",
              "      <td>12.414558</td>\n",
              "      <td>...</td>\n",
              "      <td>-0.255168</td>\n",
              "      <td>0.717108</td>\n",
              "      <td>-0.187191</td>\n",
              "      <td>-0.185274</td>\n",
              "      <td>3.991587</td>\n",
              "      <td>0.810879</td>\n",
              "      <td>-0.694235</td>\n",
              "      <td>2.084651</td>\n",
              "      <td>0.025308</td>\n",
              "      <td>0.025217</td>\n",
              "    </tr>\n",
              "    <tr>\n",
              "      <th>4</th>\n",
              "      <td>230460314</td>\n",
              "      <td>2</td>\n",
              "      <td>1</td>\n",
              "      <td>1.011523</td>\n",
              "      <td>-0.081127</td>\n",
              "      <td>-1.201369</td>\n",
              "      <td>1.153668</td>\n",
              "      <td>0.333276</td>\n",
              "      <td>1.312656</td>\n",
              "      <td>-0.061584</td>\n",
              "      <td>...</td>\n",
              "      <td>-0.255162</td>\n",
              "      <td>-0.259249</td>\n",
              "      <td>-0.696206</td>\n",
              "      <td>-0.714093</td>\n",
              "      <td>-0.293897</td>\n",
              "      <td>-0.761399</td>\n",
              "      <td>-0.693922</td>\n",
              "      <td>-0.720790</td>\n",
              "      <td>-0.487315</td>\n",
              "      <td>-0.563089</td>\n",
              "    </tr>\n",
              "  </tbody>\n",
              "</table>\n",
              "<p>5 rows × 96 columns</p>\n",
              "</div>\n",
              "      <button class=\"colab-df-convert\" onclick=\"convertToInteractive('df-bb5fe9bf-b862-4498-a98c-ec5fa7ced8a8')\"\n",
              "              title=\"Convert this dataframe to an interactive table.\"\n",
              "              style=\"display:none;\">\n",
              "        \n",
              "  <svg xmlns=\"http://www.w3.org/2000/svg\" height=\"24px\"viewBox=\"0 0 24 24\"\n",
              "       width=\"24px\">\n",
              "    <path d=\"M0 0h24v24H0V0z\" fill=\"none\"/>\n",
              "    <path d=\"M18.56 5.44l.94 2.06.94-2.06 2.06-.94-2.06-.94-.94-2.06-.94 2.06-2.06.94zm-11 1L8.5 8.5l.94-2.06 2.06-.94-2.06-.94L8.5 2.5l-.94 2.06-2.06.94zm10 10l.94 2.06.94-2.06 2.06-.94-2.06-.94-.94-2.06-.94 2.06-2.06.94z\"/><path d=\"M17.41 7.96l-1.37-1.37c-.4-.4-.92-.59-1.43-.59-.52 0-1.04.2-1.43.59L10.3 9.45l-7.72 7.72c-.78.78-.78 2.05 0 2.83L4 21.41c.39.39.9.59 1.41.59.51 0 1.02-.2 1.41-.59l7.78-7.78 2.81-2.81c.8-.78.8-2.07 0-2.86zM5.41 20L4 18.59l7.72-7.72 1.47 1.35L5.41 20z\"/>\n",
              "  </svg>\n",
              "      </button>\n",
              "      \n",
              "  <style>\n",
              "    .colab-df-container {\n",
              "      display:flex;\n",
              "      flex-wrap:wrap;\n",
              "      gap: 12px;\n",
              "    }\n",
              "\n",
              "    .colab-df-convert {\n",
              "      background-color: #E8F0FE;\n",
              "      border: none;\n",
              "      border-radius: 50%;\n",
              "      cursor: pointer;\n",
              "      display: none;\n",
              "      fill: #1967D2;\n",
              "      height: 32px;\n",
              "      padding: 0 0 0 0;\n",
              "      width: 32px;\n",
              "    }\n",
              "\n",
              "    .colab-df-convert:hover {\n",
              "      background-color: #E2EBFA;\n",
              "      box-shadow: 0px 1px 2px rgba(60, 64, 67, 0.3), 0px 1px 3px 1px rgba(60, 64, 67, 0.15);\n",
              "      fill: #174EA6;\n",
              "    }\n",
              "\n",
              "    [theme=dark] .colab-df-convert {\n",
              "      background-color: #3B4455;\n",
              "      fill: #D2E3FC;\n",
              "    }\n",
              "\n",
              "    [theme=dark] .colab-df-convert:hover {\n",
              "      background-color: #434B5C;\n",
              "      box-shadow: 0px 1px 3px 1px rgba(0, 0, 0, 0.15);\n",
              "      filter: drop-shadow(0px 1px 2px rgba(0, 0, 0, 0.3));\n",
              "      fill: #FFFFFF;\n",
              "    }\n",
              "  </style>\n",
              "\n",
              "      <script>\n",
              "        const buttonEl =\n",
              "          document.querySelector('#df-bb5fe9bf-b862-4498-a98c-ec5fa7ced8a8 button.colab-df-convert');\n",
              "        buttonEl.style.display =\n",
              "          google.colab.kernel.accessAllowed ? 'block' : 'none';\n",
              "\n",
              "        async function convertToInteractive(key) {\n",
              "          const element = document.querySelector('#df-bb5fe9bf-b862-4498-a98c-ec5fa7ced8a8');\n",
              "          const dataTable =\n",
              "            await google.colab.kernel.invokeFunction('convertToInteractive',\n",
              "                                                     [key], {});\n",
              "          if (!dataTable) return;\n",
              "\n",
              "          const docLinkHtml = 'Like what you see? Visit the ' +\n",
              "            '<a target=\"_blank\" href=https://colab.research.google.com/notebooks/data_table.ipynb>data table notebook</a>'\n",
              "            + ' to learn more about interactive tables.';\n",
              "          element.innerHTML = '';\n",
              "          dataTable['output_type'] = 'display_data';\n",
              "          await google.colab.output.renderOutput(dataTable, element);\n",
              "          const docLink = document.createElement('div');\n",
              "          docLink.innerHTML = docLinkHtml;\n",
              "          element.appendChild(docLink);\n",
              "        }\n",
              "      </script>\n",
              "    </div>\n",
              "  </div>\n",
              "  "
            ],
            "text/plain": [
              "        txId  class  time_step  trans_feat_0  trans_feat_1  trans_feat_2  \\\n",
              "0  230425980      2          1     -0.171469     -0.184668     -1.201369   \n",
              "1    5530458      2          1     -0.171484     -0.184668     -1.201369   \n",
              "2  232022460      2          1     -0.172107     -0.184668     -1.201369   \n",
              "3  232438397      0          1      0.163054      1.963790     -0.646376   \n",
              "4  230460314      2          1      1.011523     -0.081127     -1.201369   \n",
              "\n",
              "   trans_feat_3  trans_feat_4  trans_feat_5  trans_feat_6  ...  trans_feat_83  \\\n",
              "0     -0.121970     -0.043875     -0.113002     -0.061584  ...      -0.255111   \n",
              "1     -0.121970     -0.043875     -0.113002     -0.061584  ...      -0.255168   \n",
              "2     -0.121970     -0.043875     -0.113002     -0.061584  ...      -0.254373   \n",
              "3     12.409294     -0.063725      9.782742     12.414558  ...      -0.255168   \n",
              "4      1.153668      0.333276      1.312656     -0.061584  ...      -0.255162   \n",
              "\n",
              "   trans_feat_84  trans_feat_85  trans_feat_86  trans_feat_87  trans_feat_88  \\\n",
              "0      -0.259194       1.125590       1.128038      -0.293773      -0.159732   \n",
              "1      -0.259251      -0.187191      -0.185274      -0.293692      -0.760700   \n",
              "2      -0.258387      -1.499972      -1.498585      -0.021809       1.936814   \n",
              "3       0.717108      -0.187191      -0.185274       3.991587       0.810879   \n",
              "4      -0.259249      -0.696206      -0.714093      -0.293897      -0.761399   \n",
              "\n",
              "   trans_feat_89  trans_feat_90  trans_feat_91  trans_feat_92  \n",
              "0       0.034039      -0.183816       1.135523       1.135279  \n",
              "1      -0.692777      -0.719789      -1.084907      -1.084845  \n",
              "2       2.448785       1.775108      -1.084907      -1.084845  \n",
              "3      -0.694235       2.084651       0.025308       0.025217  \n",
              "4      -0.693922      -0.720790      -0.487315      -0.563089  \n",
              "\n",
              "[5 rows x 96 columns]"
            ]
          },
          "execution_count": 25,
          "metadata": {},
          "output_type": "execute_result"
        }
      ],
      "source": [
        "df_class_local_features = pd.merge(df_classes, df_local_features)\n",
        "df_class_local_features.head()"
      ]
    },
    {
      "cell_type": "markdown",
      "metadata": {
        "id": "YSc6hxgkRWSV"
      },
      "source": [
        "# Data Analysis"
      ]
    },
    {
      "cell_type": "code",
      "execution_count": null,
      "metadata": {
        "colab": {
          "base_uri": "https://localhost:8080/"
        },
        "id": "lVDMkXTcRb-c",
        "outputId": "d53087ae-ae56-4e9b-bd0c-e11b7b55774e"
      },
      "outputs": [
        {
          "data": {
            "text/plain": [
              "2    157205\n",
              "0     42019\n",
              "1      4545\n",
              "Name: class, dtype: int64"
            ]
          },
          "execution_count": 33,
          "metadata": {},
          "output_type": "execute_result"
        }
      ],
      "source": [
        "# class distribution\n",
        "\n",
        "df_classes['class'].value_counts()"
      ]
    },
    {
      "cell_type": "code",
      "execution_count": null,
      "metadata": {
        "colab": {
          "base_uri": "https://localhost:8080/",
          "height": 298
        },
        "id": "-mmsbcXM9Jij",
        "outputId": "798153f9-9220-4f90-8f17-bd9acd530f73"
      },
      "outputs": [
        {
          "data": {
            "text/plain": [
              "<BarContainer object of 3 artists>"
            ]
          },
          "execution_count": 34,
          "metadata": {},
          "output_type": "execute_result"
        },
        {
          "data": {
            "image/png": "[encoded data removed]",
            "text/plain": [
              "<Figure size 432x288 with 1 Axes>"
            ]
          },
          "metadata": {
            "needs_background": "light"
          },
          "output_type": "display_data"
        }
      ],
      "source": [
        "# class distribution plot\n",
        "\n",
        "group_class = df_classes.groupby('class').count()\n",
        "plt.title(\"# of nodes per class\")\n",
        "plt.barh([ 'Licit','Illicit', 'Unknown'], group_class['txId'].values, color=['g', 'r', 'orange'] )"
      ]
    },
    {
      "cell_type": "code",
      "execution_count": null,
      "metadata": {
        "colab": {
          "base_uri": "https://localhost:8080/",
          "height": 281
        },
        "id": "Wyvu37C3WUTz",
        "outputId": "1557adbe-89cb-4100-e725-1b6e431b798f"
      },
      "outputs": [
        {
          "data": {
            "image/png": "[encoded data removed]",
            "text/plain": [
              "<Figure size 432x288 with 1 Axes>"
            ]
          },
          "metadata": {
            "needs_background": "light"
          },
          "output_type": "display_data"
        }
      ],
      "source": [
        "# number of transactions in each time step\n",
        "\n",
        "df_features['time_step'].value_counts().sort_index().plot();\n",
        "plt.title('Number of transactions in each time step');"
      ]
    },
    {
      "cell_type": "code",
      "execution_count": null,
      "metadata": {
        "colab": {
          "base_uri": "https://localhost:8080/"
        },
        "id": "EXVm1I7p3n9p",
        "outputId": "2a92bd1a-487d-47ec-8d5e-5289679b193a"
      },
      "outputs": [
        {
          "name": "stdout",
          "output_type": "stream",
          "text": [
            "torch.Size([29894, 165])\n",
            "torch.Size([29894])\n",
            "0    26432\n",
            "1     3462\n",
            "dtype: int64\n"
          ]
        }
      ],
      "source": [
        "# train set info\n",
        "\n",
        "print(data.x[train_mask].shape)\n",
        "print(data.y[train_mask].shape)\n",
        "print(pd.DataFrame(data.y[train_mask]).value_counts())"
      ]
    },
    {
      "cell_type": "code",
      "execution_count": null,
      "metadata": {
        "colab": {
          "base_uri": "https://localhost:8080/"
        },
        "id": "_XHYADZt9SR8",
        "outputId": "4893f6be-36f9-4c74-b4f0-cea0806157f8"
      },
      "outputs": [
        {
          "name": "stdout",
          "output_type": "stream",
          "text": [
            "torch.Size([16670, 165])\n",
            "torch.Size([16670])\n",
            "0    15587\n",
            "1     1083\n",
            "dtype: int64\n"
          ]
        }
      ],
      "source": [
        "# test set info\n",
        "\n",
        "print(data.x[test_mask].shape)\n",
        "print(data.y[test_mask].shape)\n",
        "print(pd.DataFrame(data.y[test_mask]).value_counts())"
      ]
    },
    {
      "cell_type": "code",
      "execution_count": null,
      "metadata": {
        "colab": {
          "base_uri": "https://localhost:8080/",
          "height": 514
        },
        "id": "-rZyJ2oiXpYR",
        "outputId": "0d1ec8d9-b726-430a-b08b-b2500e9fe173"
      },
      "outputs": [
        {
          "data": {
            "image/png": "[encoded data removed]",
            "text/plain": [
              "<Figure size 864x576 with 1 Axes>"
            ]
          },
          "metadata": {
            "needs_background": "light"
          },
          "output_type": "display_data"
        }
      ],
      "source": [
        "# number of transactions in each time step by class\n",
        "\n",
        "plt.figure(figsize=(12, 8))\n",
        "grouped = df_class_features.groupby(['time_step', 'class'])['txId'].count().reset_index().rename(columns={'txId': 'count'})\n",
        "sns.lineplot(x='time_step', y='count', hue='class', palette=['g','r','orange'], data=grouped);\n",
        "plt.legend(loc=(0.85, 0.85));\n",
        "plt.title('Number of transactions in each time step by class');"
      ]
    },
    {
      "cell_type": "code",
      "execution_count": null,
      "metadata": {
        "colab": {
          "base_uri": "https://localhost:8080/"
        },
        "id": "CsDZngokpTof",
        "outputId": "25f67b51-8ec3-40ac-cf24-9265c5f7647c"
      },
      "outputs": [],
      "source": [
        "# degree analysis\n",
        "\n",
        "edge_pairs_list = list(df_edgelist.to_records(index=False))\n",
        "G = nx.from_edgelist(edge_pairs_list)\n",
        "degree_sequence = sorted((d for n, d in G.degree()), reverse=True)\n",
        "print(\"Average node degree:\", np.mean(degree_sequence))"
      ]
    },
    {
      "cell_type": "markdown",
      "metadata": {
        "id": "9a1YeG5NwUwC"
      },
      "source": [
        "# Logistic Regression"
      ]
    },
    {
      "cell_type": "markdown",
      "metadata": {
        "id": "5fAL9cI-HiNB"
      },
      "source": [
        "## LR (all features)"
      ]
    },
    {
      "cell_type": "code",
      "execution_count": null,
      "metadata": {
        "id": "yw0nglU3wZae"
      },
      "outputs": [],
      "source": [
        "from sklearn.linear_model import LogisticRegression\n",
        "from sklearn.metrics import precision_score, recall_score, f1_score, average_precision_score"
      ]
    },
    {
      "cell_type": "code",
      "execution_count": null,
      "metadata": {
        "colab": {
          "base_uri": "https://localhost:8080/"
        },
        "id": "0Mf4EH3pWHMx",
        "outputId": "4d723429-2e25-4f61-a931-887b2d6b54f8"
      },
      "outputs": [],
      "source": [
        "cond1 = df_class_features['class'] != 2\n",
        "cond2 = df_class_features['time_step'] < 35\n",
        "cond3 = df_class_features['time_step'] >= 35\n",
        "my_training_mask = cond1 & cond2\n",
        "my_test_mask = cond1 & cond3\n",
        "print(my_training_mask.value_counts())"
      ]
    },
    {
      "cell_type": "code",
      "execution_count": null,
      "metadata": {
        "colab": {
          "base_uri": "https://localhost:8080/"
        },
        "id": "xCLIrevSwu1I",
        "outputId": "a5b0e913-1863-4e0f-ecae-4896740f2095"
      },
      "outputs": [],
      "source": [
        "X = df_class_features.drop(columns=['txId', 'class', 'time_step']) # drop class, text id and time step\n",
        "print(X.head())\n",
        "y = df_class_features[['class']]\n",
        "print(y.head())"
      ]
    },
    {
      "cell_type": "code",
      "execution_count": null,
      "metadata": {
        "colab": {
          "base_uri": "https://localhost:8080/"
        },
        "id": "uYwNeyDZw230",
        "outputId": "cb048d2a-9f7b-4629-d6fa-12fe1e8dad13"
      },
      "outputs": [],
      "source": [
        "X_train = X[my_training_mask]\n",
        "print(X_train.head())\n",
        "y_train = y[my_training_mask]\n",
        "print(y_train.head())\n",
        "X_test = X[my_test_mask]\n",
        "print(X_test.head())\n",
        "y_test = y[my_test_mask]\n",
        "print(y_test.value_counts())"
      ]
    },
    {
      "cell_type": "code",
      "execution_count": null,
      "metadata": {
        "colab": {
          "base_uri": "https://localhost:8080/"
        },
        "id": "UAYuBUrqyEvE",
        "outputId": "831b6852-caee-48d1-ad97-eded4f7744d3"
      },
      "outputs": [],
      "source": [
        "model_LR = LogisticRegression().fit(X_train.values,y_train.values)\n",
        "\n",
        "y_probabilities = model_LR.predict_proba(X_test.values)\n",
        "y_probabilities = np.array(y_probabilities)[:,1:]\n",
        "\n",
        "y_preds = model_LR.predict(X_test.values)\n",
        "\n",
        "\n",
        "test_precision = precision_score(y_test, y_preds, pos_label=1)\n",
        "test_recall = recall_score(y_test, y_preds, pos_label=1)\n",
        "test_f1 = f1_score(y_test, y_preds, pos_label=1)\n",
        "test_average_precision = average_precision_score(y_test, y_probabilities)\n",
        "\n",
        "print(\"Logistic Regression Classifier\")\n",
        "print(\"Precision:%.4f \\nRecall:%.4f \\nF1 Score:%.4f \\nAverage Precision:%.4f\"%(test_precision, test_recall, test_f1, test_average_precision))"
      ]
    },
    {
      "cell_type": "markdown",
      "metadata": {
        "id": "z2ToL0rjHm1n"
      },
      "source": [
        "## LR (local features)"
      ]
    },
    {
      "cell_type": "code",
      "execution_count": null,
      "metadata": {
        "id": "DnoMX-bNHvA6"
      },
      "outputs": [],
      "source": [
        "from sklearn.linear_model import LogisticRegression\n",
        "from sklearn.metrics import precision_score, recall_score, f1_score, average_precision_score"
      ]
    },
    {
      "cell_type": "code",
      "execution_count": null,
      "metadata": {
        "colab": {
          "base_uri": "https://localhost:8080/"
        },
        "id": "OYpOjDvIH0QI",
        "outputId": "7f334c6f-79ff-4494-d8b6-d6fb57c48a74"
      },
      "outputs": [],
      "source": [
        "cond1 = df_class_local_features['class'] != 2\n",
        "cond2 = df_class_local_features['time_step'] < 35\n",
        "cond3 = df_class_local_features['time_step'] >= 35\n",
        "my_training_mask = cond1 & cond2\n",
        "my_test_mask = cond1 & cond3\n",
        "print(my_training_mask.value_counts())"
      ]
    },
    {
      "cell_type": "code",
      "execution_count": null,
      "metadata": {
        "colab": {
          "base_uri": "https://localhost:8080/"
        },
        "id": "mK2mjUSTH_tj",
        "outputId": "29430e97-3d18-44f7-d0af-974b6c3d41a8"
      },
      "outputs": [],
      "source": [
        "X = df_class_local_features.drop(columns=['txId', 'class', 'time_step']) # drop class, text id and time step\n",
        "print(X.head())\n",
        "y = df_class_local_features[['class']]\n",
        "print(y.head())"
      ]
    },
    {
      "cell_type": "code",
      "execution_count": null,
      "metadata": {
        "colab": {
          "base_uri": "https://localhost:8080/"
        },
        "id": "Ccw4NELYIG7j",
        "outputId": "c89c738c-bd1c-4ad9-c5b0-0ed22596c95a"
      },
      "outputs": [],
      "source": [
        "X_train = X[my_training_mask]\n",
        "print(X_train.head())\n",
        "y_train = y[my_training_mask]\n",
        "print(y_train.head())\n",
        "X_test = X[my_test_mask]\n",
        "print(X_test.head())\n",
        "y_test = y[my_test_mask]\n",
        "print(y_test.value_counts())"
      ]
    },
    {
      "cell_type": "code",
      "execution_count": null,
      "metadata": {
        "colab": {
          "base_uri": "https://localhost:8080/"
        },
        "id": "UjimgqNYIQ3C",
        "outputId": "6d9bb343-df0e-448e-9236-1e06e70a4772"
      },
      "outputs": [],
      "source": [
        "model_LR = LogisticRegression().fit(X_train.values,y_train.values)\n",
        "\n",
        "y_probabilities = model_LR.predict_proba(X_test.values)\n",
        "y_probabilities = np.array(y_probabilities)[:,1:]\n",
        "\n",
        "y_preds = model_LR.predict(X_test.values)\n",
        "\n",
        "\n",
        "test_precision = precision_score(y_test, y_preds, pos_label=1)\n",
        "test_recall = recall_score(y_test, y_preds, pos_label=1)\n",
        "test_f1 = f1_score(y_test, y_preds, pos_label=1)\n",
        "test_average_precision = average_precision_score(y_test, y_probabilities)\n",
        "\n",
        "print(\"Logistic Regression Classifier\")\n",
        "print(\"Precision:%.4f \\nRecall:%.4f \\nF1 Score:%.4f \\nAverage Precision:%.4f\"%(test_precision, test_recall, test_f1, test_average_precision))"
      ]
    },
    {
      "cell_type": "markdown",
      "metadata": {
        "id": "9s3HWguNLBi4"
      },
      "source": [
        "# Random Forest"
      ]
    },
    {
      "cell_type": "markdown",
      "metadata": {
        "id": "K3osY3ZwNXr1"
      },
      "source": [
        "## RF (all features)"
      ]
    },
    {
      "cell_type": "code",
      "execution_count": null,
      "metadata": {
        "id": "1w17Vu5iLFiI"
      },
      "outputs": [],
      "source": [
        "from sklearn.ensemble import RandomForestClassifier\n",
        "from sklearn.metrics import precision_score, recall_score, f1_score, average_precision_score"
      ]
    },
    {
      "cell_type": "code",
      "execution_count": null,
      "metadata": {
        "colab": {
          "base_uri": "https://localhost:8080/"
        },
        "id": "vvc31xEpYdqo",
        "outputId": "314295ce-871c-4a96-a5d9-af55c22e8e7f"
      },
      "outputs": [],
      "source": [
        "cond1 = df_class_features['class'] != 2\n",
        "cond2 = df_class_features['time_step'] < 35\n",
        "cond3 = df_class_features['time_step'] >= 35\n",
        "my_training_mask = cond1 & cond2\n",
        "my_test_mask = cond1 & cond3\n",
        "print(my_training_mask.value_counts())"
      ]
    },
    {
      "cell_type": "code",
      "execution_count": null,
      "metadata": {
        "colab": {
          "base_uri": "https://localhost:8080/"
        },
        "id": "YVqyg9iSLIZN",
        "outputId": "d270f902-3723-44c1-9b66-eb138bce6dd5"
      },
      "outputs": [],
      "source": [
        "X = df_class_features.drop(columns=['txId', 'class', 'time_step']) # drop class, text id and time step\n",
        "print(X.head())\n",
        "y = df_class_features[['class']]\n",
        "print(y.head())"
      ]
    },
    {
      "cell_type": "code",
      "execution_count": null,
      "metadata": {
        "colab": {
          "base_uri": "https://localhost:8080/"
        },
        "id": "EG_J6hwlLVJp",
        "outputId": "2e19eaac-6bac-48e7-f050-357cf96dfa76"
      },
      "outputs": [],
      "source": [
        "X_train = X[my_training_mask]\n",
        "print(X_train.head())\n",
        "y_train = y[my_training_mask]\n",
        "print(y_train.head())\n",
        "X_test = X[my_test_mask]\n",
        "print(X_test.head())\n",
        "y_test = y[my_test_mask]\n",
        "print(y_test.head())"
      ]
    },
    {
      "cell_type": "code",
      "execution_count": null,
      "metadata": {
        "colab": {
          "base_uri": "https://localhost:8080/"
        },
        "id": "9PBLApxBLdwy",
        "outputId": "915885b9-6b29-43d5-951e-4b3d9cf63204"
      },
      "outputs": [],
      "source": [
        "model_RF = RandomForestClassifier(n_estimators=50, max_features=50).fit(X_train.values,y_train.values)\n",
        "\n",
        "y_probabilities = model_RF.predict_proba(X_test.values)\n",
        "y_probabilities = np.array(y_probabilities)[:,1:]\n",
        "\n",
        "y_preds = model_RF.predict(X_test.values)\n",
        "\n",
        "test_precision = precision_score(y_test, y_preds, pos_label=1)\n",
        "test_recall = recall_score(y_test, y_preds, pos_label=1)\n",
        "test_f1 = f1_score(y_test, y_preds, pos_label=1)\n",
        "test_average_precision = average_precision_score(y_test, y_probabilities)\n",
        "\n",
        "print(\"Random Forest Classifier\")\n",
        "print(\"Precision:%.4f \\nRecall:%.4f \\nF1 Score:%.4f \\nAverage Precision:%.4f\"%(test_precision, test_recall, test_f1, test_average_precision))"
      ]
    },
    {
      "cell_type": "markdown",
      "metadata": {
        "id": "dI419wEMNje2"
      },
      "source": [
        "## RF (local features)"
      ]
    },
    {
      "cell_type": "code",
      "execution_count": null,
      "metadata": {
        "id": "VAQ1OWjxNje3"
      },
      "outputs": [],
      "source": [
        "from sklearn.ensemble import RandomForestClassifier\n",
        "from sklearn.metrics import precision_score, recall_score, f1_score, average_precision_score"
      ]
    },
    {
      "cell_type": "code",
      "execution_count": null,
      "metadata": {
        "colab": {
          "base_uri": "https://localhost:8080/"
        },
        "id": "os0gOYodNje4",
        "outputId": "5b1f39d0-6da0-45e3-8739-781b1813e0b1"
      },
      "outputs": [],
      "source": [
        "cond1 = df_class_local_features['class'] != 2\n",
        "cond2 = df_class_local_features['time_step'] < 35\n",
        "cond3 = df_class_local_features['time_step'] >= 35\n",
        "my_training_mask = cond1 & cond2\n",
        "my_test_mask = cond1 & cond3\n",
        "print(my_training_mask.value_counts())"
      ]
    },
    {
      "cell_type": "code",
      "execution_count": null,
      "metadata": {
        "colab": {
          "base_uri": "https://localhost:8080/"
        },
        "id": "37VTZURFNje5",
        "outputId": "15e9da4b-41ee-4e14-bbaf-bfbadf162907"
      },
      "outputs": [],
      "source": [
        "X = df_class_local_features.drop(columns=['txId', 'class', 'time_step']) # drop class, text id and time step\n",
        "print(X.head())\n",
        "y = df_class_local_features[['class']]\n",
        "print(y.head())"
      ]
    },
    {
      "cell_type": "code",
      "execution_count": null,
      "metadata": {
        "colab": {
          "base_uri": "https://localhost:8080/"
        },
        "id": "fICN0N9hNje6",
        "outputId": "ab4bcd0e-bcd2-472c-cbea-f52c624ad81b"
      },
      "outputs": [],
      "source": [
        "X_train = X[my_training_mask]\n",
        "print(X_train.head())\n",
        "y_train = y[my_training_mask]\n",
        "print(y_train.head())\n",
        "X_test = X[my_test_mask]\n",
        "print(X_test.head())\n",
        "y_test = y[my_test_mask]\n",
        "print(y_test.head())"
      ]
    },
    {
      "cell_type": "code",
      "execution_count": null,
      "metadata": {
        "colab": {
          "base_uri": "https://localhost:8080/"
        },
        "id": "8dYGr7cONje7",
        "outputId": "c9be26ef-5316-4fef-b75d-ccd7c014109b"
      },
      "outputs": [],
      "source": [
        "model_RF = RandomForestClassifier(n_estimators=50, max_features=50).fit(X_train.values,y_train.values)\n",
        "\n",
        "y_probabilities = model_RF.predict_proba(X_test.values)\n",
        "y_probabilities = np.array(y_probabilities)[:,1:]\n",
        "\n",
        "y_preds = model_RF.predict(X_test.values)\n",
        "\n",
        "test_precision = precision_score(y_test, y_preds, pos_label=1)\n",
        "test_recall = recall_score(y_test, y_preds, pos_label=1)\n",
        "test_f1 = f1_score(y_test, y_preds, pos_label=1)\n",
        "test_average_precision = average_precision_score(y_test, y_probabilities)\n",
        "\n",
        "print(\"Random Forest Classifier\")\n",
        "print(\"Precision:%.4f \\nRecall:%.4f \\nF1 Score:%.4f \\nAverage Precision:%.4f\"%(test_precision, test_recall, test_f1, test_average_precision))"
      ]
    },
    {
      "cell_type": "markdown",
      "metadata": {
        "id": "05FTxgmzB_8R"
      },
      "source": [
        "# Multilayer Perceptron"
      ]
    },
    {
      "cell_type": "markdown",
      "metadata": {
        "id": "M_Z6Ki0WXMHU"
      },
      "source": [
        "## MLP (all features)"
      ]
    },
    {
      "cell_type": "code",
      "execution_count": null,
      "metadata": {
        "colab": {
          "base_uri": "https://localhost:8080/"
        },
        "id": "haRqDB0UCGJ1",
        "outputId": "fdc48b33-0df7-4c35-8bf8-006ce47d32b7"
      },
      "outputs": [],
      "source": [
        "from torch.nn import Linear\n",
        "import torch.nn.functional as F\n",
        "from sklearn.metrics import precision_score, recall_score, f1_score, average_precision_score\n",
        "\n",
        "class MLP(torch.nn.Module):\n",
        "    def __init__(self, hidden_channels):\n",
        "        super().__init__()\n",
        "        self.lin1 = Linear(num_features, hidden_channels)\n",
        "        self.lin2 = Linear(hidden_channels, num_classes)\n",
        "\n",
        "    def forward(self, x):\n",
        "        x = self.lin1(x)\n",
        "        x = x.relu()\n",
        "        x = F.dropout(x, p=0.5, training=self.training)\n",
        "        x = self.lin2(x)\n",
        "        return x\n",
        "\n",
        "model = MLP(hidden_channels=50)\n",
        "print(model)"
      ]
    },
    {
      "cell_type": "code",
      "execution_count": null,
      "metadata": {
        "colab": {
          "base_uri": "https://localhost:8080/"
        },
        "id": "3_k_YDxRdHCg",
        "outputId": "4f0bf058-2079-4e9f-f3f2-70b50a09cd9f"
      },
      "outputs": [],
      "source": [
        "print(data.y[train_mask].unique(return_counts=True))"
      ]
    },
    {
      "cell_type": "code",
      "execution_count": null,
      "metadata": {
        "colab": {
          "base_uri": "https://localhost:8080/"
        },
        "id": "kmlKADOkCm4i",
        "outputId": "a8cebbd3-cdca-4291-ca64-593e4ae5fb0a"
      },
      "outputs": [],
      "source": [
        "model = MLP(hidden_channels=50)\n",
        "criterion = torch.nn.CrossEntropyLoss()  # Define loss criterion.\n",
        "optimizer = torch.optim.Adam(model.parameters(), lr=0.001, weight_decay=5e-4)  # Define optimizer.\n",
        "\n",
        "def train():\n",
        "      model.train()\n",
        "      optimizer.zero_grad()  # Clear gradients.\n",
        "      out = model(data.x)  # Perform a single forward pass.\n",
        "      loss = criterion(out[train_mask], data.y[train_mask])  # Compute the loss solely based on the training nodes.\n",
        "      loss.backward()  # Derive gradients.\n",
        "      optimizer.step()  # Update parameters based on gradients.\n",
        "      return loss\n",
        "\n",
        "for epoch in range(1, 201):\n",
        "    loss = train()\n",
        "    print(f'Epoch: {epoch:03d}, Loss: {loss:.4f}')"
      ]
    },
    {
      "cell_type": "code",
      "execution_count": null,
      "metadata": {
        "id": "vgmEfBw-57c2"
      },
      "outputs": [],
      "source": [
        "def test():\n",
        "      model.eval()\n",
        "      out = model(data.x)\n",
        "      probabilities = out.detach().cpu().numpy()[:,1:]\n",
        "      pred = out.argmax(dim=1)  # Use the class with highest probability.\n",
        "      print(pd.DataFrame(pred[test_mask]).value_counts())\n",
        "      test_correct = pred[test_mask] == data.y[test_mask]  # Check against ground-truth labels.\n",
        "      test_acc = int(test_correct.sum()) / int(test_mask.sum())  # Derive ratio of correct predictions.\n",
        "      test_precision = precision_score(data.y[test_mask], pred[test_mask])\n",
        "      test_recall = recall_score(data.y[test_mask], pred[test_mask])\n",
        "      test_f1 = f1_score(data.y[test_mask], pred[test_mask])\n",
        "      test_average_precision = average_precision_score(data.y[test_mask], probabilities[test_mask])\n",
        "\n",
        "      test_results = {\n",
        "          1: test_acc,\n",
        "          2: test_precision,\n",
        "          3: test_recall,\n",
        "          4: test_f1,\n",
        "          5: test_average_precision\n",
        "      }\n",
        "      return test_results"
      ]
    },
    {
      "cell_type": "code",
      "execution_count": null,
      "metadata": {
        "colab": {
          "base_uri": "https://localhost:8080/"
        },
        "id": "HDiNuFZh7lnL",
        "outputId": "af3a08f8-283a-4e2c-c2e2-c3078cf1d317"
      },
      "outputs": [],
      "source": [
        "test_results = test()\n",
        "print(f'Test Accuracy: {test_results[1]:.4f}, Test Precision: {test_results[2]:.4f}, Test Recall: {test_results[3]:.4f}, Test F1: {test_results[4]:.4f}, Test Average Precision: {test_results[5]:.4f}')"
      ]
    },
    {
      "cell_type": "markdown",
      "metadata": {
        "id": "n_BO7V9FXQkz"
      },
      "source": [
        "## MLP (local features)"
      ]
    },
    {
      "cell_type": "code",
      "execution_count": null,
      "metadata": {
        "colab": {
          "base_uri": "https://localhost:8080/"
        },
        "id": "nwZt4Ii1XdGu",
        "outputId": "a138cafa-dbab-47e0-d593-cf93475ebafe"
      },
      "outputs": [],
      "source": [
        "from torch.nn import Linear\n",
        "import torch.nn.functional as F\n",
        "from sklearn.metrics import precision_score, recall_score, f1_score, average_precision_score\n",
        "\n",
        "class MLP(torch.nn.Module):\n",
        "    def __init__(self, hidden_channels):\n",
        "        super().__init__()\n",
        "        self.lin1 = Linear(93, hidden_channels)\n",
        "        self.lin2 = Linear(hidden_channels, num_classes)\n",
        "\n",
        "    def forward(self, x):\n",
        "        x = self.lin1(x)\n",
        "        x = x.relu()\n",
        "        x = F.dropout(x, p=0.5, training=self.training)\n",
        "        x = self.lin2(x)\n",
        "        return x\n",
        "\n",
        "model = MLP(hidden_channels=50)\n",
        "print(model)"
      ]
    },
    {
      "cell_type": "code",
      "execution_count": null,
      "metadata": {
        "colab": {
          "base_uri": "https://localhost:8080/"
        },
        "id": "7EPqu-g6XnJh",
        "outputId": "db882718-4c6e-4b4a-a03f-c4fbd78317b8"
      },
      "outputs": [],
      "source": [
        "local_features_x = torch.from_numpy(df_local_features.iloc[:, 2:].values).to(torch.float) #excluding time step\n",
        "print(local_features_x.shape)"
      ]
    },
    {
      "cell_type": "code",
      "execution_count": null,
      "metadata": {
        "colab": {
          "base_uri": "https://localhost:8080/"
        },
        "id": "N1mZzBMkXgxz",
        "outputId": "2ae1e738-a6eb-4077-8d2b-2bf898975fe5"
      },
      "outputs": [],
      "source": [
        "model = MLP(hidden_channels=50)\n",
        "criterion = torch.nn.CrossEntropyLoss()  # Define loss criterion.\n",
        "optimizer = torch.optim.Adam(model.parameters(), lr=0.001, weight_decay=5e-4)  # Define optimizer.\n",
        "\n",
        "def train():\n",
        "      model.train()\n",
        "      optimizer.zero_grad()  # Clear gradients.\n",
        "      out = model(local_features_x)  # Perform a single forward pass.\n",
        "      loss = criterion(out[train_mask], data.y[train_mask])  # Compute the loss solely based on the training nodes.\n",
        "      loss.backward()  # Derive gradients.\n",
        "      optimizer.step()  # Update parameters based on gradients.\n",
        "      return loss\n",
        "\n",
        "for epoch in range(1, 201):\n",
        "    loss = train()\n",
        "    print(f'Epoch: {epoch:03d}, Loss: {loss:.4f}')"
      ]
    },
    {
      "cell_type": "code",
      "execution_count": null,
      "metadata": {
        "id": "9nu8GD88YqYn"
      },
      "outputs": [],
      "source": [
        "def test():\n",
        "      model.eval()\n",
        "      out = model(local_features_x)\n",
        "      probabilities = out.detach().cpu().numpy()[:,1:]\n",
        "      pred = out.argmax(dim=1)  # Use the class with highest probability.\n",
        "      print(pd.DataFrame(pred[test_mask]).value_counts())\n",
        "      test_correct = pred[test_mask] == data.y[test_mask]  # Check against ground-truth labels.\n",
        "      test_acc = int(test_correct.sum()) / int(test_mask.sum())  # Derive ratio of correct predictions.\n",
        "      test_precision = precision_score(data.y[test_mask], pred[test_mask])\n",
        "      test_recall = recall_score(data.y[test_mask], pred[test_mask])\n",
        "      test_f1 = f1_score(data.y[test_mask], pred[test_mask])\n",
        "      test_average_precision = average_precision_score(data.y[test_mask], probabilities[test_mask])\n",
        "\n",
        "      test_results = {\n",
        "          1: test_acc,\n",
        "          2: test_precision,\n",
        "          3: test_recall,\n",
        "          4: test_f1,\n",
        "          5: test_average_precision\n",
        "      }\n",
        "      return test_results"
      ]
    },
    {
      "cell_type": "code",
      "execution_count": null,
      "metadata": {
        "colab": {
          "base_uri": "https://localhost:8080/"
        },
        "id": "R593KF2gY7L_",
        "outputId": "ec43eba3-bea1-43ec-f302-d77777168612"
      },
      "outputs": [],
      "source": [
        "test_results = test()\n",
        "print(f'Test Accuracy: {test_results[1]:.4f}, Test Precision: {test_results[2]:.4f}, Test Recall: {test_results[3]:.4f}, Test F1: {test_results[4]:.4f}, Test Average Precision: {test_results[5]:.4f}')"
      ]
    },
    {
      "cell_type": "markdown",
      "metadata": {
        "id": "5T8YheKf2Ral"
      },
      "source": [
        "# Graph Convolutional Network"
      ]
    },
    {
      "cell_type": "markdown",
      "metadata": {
        "id": "GG0RsttzblgD"
      },
      "source": [
        "## GCN (all features)"
      ]
    },
    {
      "cell_type": "code",
      "execution_count": null,
      "metadata": {
        "colab": {
          "base_uri": "https://localhost:8080/"
        },
        "id": "4tccyN8Pbr3y",
        "outputId": "9985519b-c82f-4b9e-c2ed-d84e7941a96c"
      },
      "outputs": [],
      "source": [
        "from torch_geometric.nn import GCNConv\n",
        "from torch.nn import Linear\n",
        "import torch.nn.functional as F\n",
        "\n",
        "class GCN(torch.nn.Module):\n",
        "    def __init__(self):\n",
        "        super(GCN, self).__init__()\n",
        "        self.conv1 = GCNConv(165, 128)\n",
        "        self.conv2 = GCNConv(128, 2)\n",
        "        self.classifier = Linear(2, 1)\n",
        "\n",
        "    def forward(self, data, adj=None):\n",
        "        x, edge_index = data.x, data.edge_index\n",
        "        h = self.conv1(x, edge_index)\n",
        "        h = h.relu()\n",
        "        h = F.dropout(h, p=0.5, training=self.training)\n",
        "        h = self.conv2(h, edge_index)\n",
        "        embeddings = h # Final GNN embedding space.\n",
        "        \n",
        "        # Apply a final (linear) classifier.\n",
        "        out = self.classifier(embeddings)\n",
        "\n",
        "        # return out, embeddings\n",
        "        return torch.sigmoid(out)\n",
        "\n",
        "model = GCN()\n",
        "print(model)"
      ]
    },
    {
      "cell_type": "code",
      "execution_count": null,
      "metadata": {
        "colab": {
          "base_uri": "https://localhost:8080/"
        },
        "id": "MsIzbpj2cTdD",
        "outputId": "ef875860-a807-4f51-b74f-09507ef1a104"
      },
      "outputs": [],
      "source": [
        "print(torch.cuda.is_available())\n",
        "device = torch.device('cuda' if torch.cuda.is_available() else 'cpu')\n",
        "\n",
        "model = GCN()\n",
        "\n",
        "model.to(device)\n",
        "\n",
        "data = data.to(device)\n",
        "\n",
        "optimizer = torch.optim.Adam(model.parameters(), lr=0.01, weight_decay=5e-4)\n",
        "scheduler = torch.optim.lr_scheduler.ReduceLROnPlateau(optimizer, 'min')\n",
        "criterion = torch.nn.BCELoss()\n",
        "\n",
        "def train():\n",
        "      model.train()\n",
        "      optimizer.zero_grad()  # Clear gradients.\n",
        "      out = model(data)  # Perform a single forward pass.\n",
        "      out = out.reshape((data.x.shape[0]))\n",
        "      loss = criterion(out[train_mask], data.y[train_mask].float())  # Compute the loss solely based on the training nodes.\n",
        "      loss.backward()  # Derive gradients.\n",
        "      optimizer.step()  # Update parameters based on gradients.\n",
        "      return loss\n",
        "\n",
        "\n",
        "for epoch in range(501):\n",
        "    loss = train()\n",
        "    if epoch % 5 == 0:\n",
        "      print(f'Epoch: {epoch:03d}, Loss: {loss:.4f}')"
      ]
    },
    {
      "cell_type": "code",
      "execution_count": null,
      "metadata": {
        "id": "Yy9gcTPGfgxM"
      },
      "outputs": [],
      "source": [
        "from sklearn.metrics import accuracy_score, precision_score, recall_score, f1_score,  average_precision_score\n",
        "\n",
        "\n",
        "def test(threshold=0.5):\n",
        "      model.eval()\n",
        "      out = model(data)\n",
        "      out = out.reshape((data.x.shape[0]))\n",
        "      \n",
        "      pred_scores = out.detach().cpu().numpy()[test_mask]\n",
        "      pred_labels = pred_scores > threshold\n",
        "\n",
        "      print(np.unique(pred_labels, return_counts=True))\n",
        "\n",
        "      original_data = data.detach().cpu()\n",
        "      target_labels = original_data.y[test_mask]\n",
        "\n",
        "      test_accuracy = accuracy_score(target_labels, pred_labels)\n",
        "      test_precision = precision_score(target_labels, pred_labels)\n",
        "      test_recall = recall_score(target_labels, pred_labels)\n",
        "      test_f1 = f1_score(target_labels, pred_labels)\n",
        "      test_average_precision = average_precision_score(target_labels, pred_scores)\n",
        "      test_results = {\n",
        "          1: test_accuracy,\n",
        "          2: test_precision,\n",
        "          3: test_recall,\n",
        "          4: test_f1,\n",
        "          5: test_average_precision\n",
        "      }\n",
        "      return test_results"
      ]
    },
    {
      "cell_type": "code",
      "execution_count": null,
      "metadata": {
        "colab": {
          "base_uri": "https://localhost:8080/"
        },
        "id": "AeJv30yDf0p3",
        "outputId": "48d9db1e-3b2b-43f7-b982-bb07890e05be"
      },
      "outputs": [],
      "source": [
        "test_results = test(threshold=0.5)\n",
        "print(f'Test Accuracy: {test_results[1]:.4f}, Test Precision: {test_results[2]:.4f}, Test Recall: {test_results[3]:.4f}, Test F1: {test_results[4]:.4f}, Test Average Precision: {test_results[5]: .4f}')"
      ]
    },
    {
      "cell_type": "markdown",
      "metadata": {
        "id": "q5R0aecXkPHd"
      },
      "source": [
        "## GCN (local features)"
      ]
    },
    {
      "cell_type": "code",
      "execution_count": null,
      "metadata": {
        "colab": {
          "base_uri": "https://localhost:8080/"
        },
        "id": "aOOPuk_YkPHf",
        "outputId": "c95202b4-b809-4f3c-f18b-53557e941594"
      },
      "outputs": [],
      "source": [
        "from torch_geometric.nn import GCNConv\n",
        "from torch.nn import Linear\n",
        "import torch.nn.functional as F\n",
        "\n",
        "class GCN(torch.nn.Module):\n",
        "    def __init__(self):\n",
        "        super(GCN, self).__init__()\n",
        "        self.conv1 = GCNConv(93, 32)\n",
        "        self.conv2 = GCNConv(32, 2)\n",
        "        self.classifier = Linear(2, 1)\n",
        "\n",
        "    def forward(self, data, adj=None):\n",
        "        x, edge_index = data.x, data.edge_index\n",
        "        h = self.conv1(x, edge_index)\n",
        "        h = h.relu()\n",
        "        h = F.dropout(h, p=0.5, training=self.training)\n",
        "        h = self.conv2(h, edge_index)\n",
        "        embeddings = h # Final GNN embedding space.\n",
        "        \n",
        "        # Apply a final (linear) classifier.\n",
        "        out = self.classifier(embeddings)\n",
        "\n",
        "        # return out, embeddings\n",
        "        return torch.sigmoid(out)\n",
        "\n",
        "model = GCN()\n",
        "print(model)"
      ]
    },
    {
      "cell_type": "code",
      "execution_count": null,
      "metadata": {
        "colab": {
          "base_uri": "https://localhost:8080/"
        },
        "id": "22slQb_6kPHg",
        "outputId": "6fdd8ae9-af69-426c-ce65-b3681a44fdc8"
      },
      "outputs": [],
      "source": [
        "print(torch.cuda.is_available())\n",
        "device = torch.device('cuda' if torch.cuda.is_available() else 'cpu')\n",
        "\n",
        "model = GCN()\n",
        "\n",
        "model.to(device)\n",
        "\n",
        "local_data = data_local.to(device)\n",
        "\n",
        "optimizer = torch.optim.Adam(model.parameters(), lr=0.01, weight_decay=5e-4)\n",
        "scheduler = torch.optim.lr_scheduler.ReduceLROnPlateau(optimizer, 'min')\n",
        "criterion = torch.nn.BCELoss()\n",
        "\n",
        "def train():\n",
        "      model.train()\n",
        "      optimizer.zero_grad()  # Clear gradients.\n",
        "      out = model(local_data)  # Perform a single forward pass.\n",
        "      out = out.reshape((local_data.x.shape[0]))\n",
        "      loss = criterion(out[train_mask], local_data.y[train_mask].float())  # Compute the loss solely based on the training nodes.\n",
        "      loss.backward()  # Derive gradients.\n",
        "      optimizer.step()  # Update parameters based on gradients.\n",
        "      return loss\n",
        "\n",
        "\n",
        "for epoch in range(501):\n",
        "    loss = train()\n",
        "    if epoch % 5 == 0:\n",
        "      print(f'Epoch: {epoch:03d}, Loss: {loss:.4f}')"
      ]
    },
    {
      "cell_type": "code",
      "execution_count": null,
      "metadata": {
        "id": "xiY3T_HAkPHh"
      },
      "outputs": [],
      "source": [
        "from sklearn.metrics import accuracy_score, precision_score, recall_score, f1_score, average_precision_score\n",
        "\n",
        "\n",
        "def test(threshold=0.5):\n",
        "      model.eval()\n",
        "      out = model(local_data)\n",
        "      out = out.reshape((local_data.x.shape[0]))\n",
        "      \n",
        "      pred_scores = out.detach().cpu().numpy()[test_mask]\n",
        "      pred_labels = pred_scores > threshold\n",
        "\n",
        "      print(np.unique(pred_labels, return_counts=True))\n",
        "\n",
        "      original_data = local_data.detach().cpu()\n",
        "      target_labels = original_data.y[test_mask]\n",
        "\n",
        "      test_accuracy = accuracy_score(target_labels, pred_labels)\n",
        "      test_precision = precision_score(target_labels, pred_labels)\n",
        "      test_recall = recall_score(target_labels, pred_labels)\n",
        "      test_f1 = f1_score(target_labels, pred_labels)\n",
        "      test_average_precision = average_precision_score(target_labels, pred_scores)\n",
        "      test_results = {\n",
        "          1: test_accuracy,\n",
        "          2: test_precision,\n",
        "          3: test_recall,\n",
        "          4: test_f1,\n",
        "          5: test_average_precision\n",
        "      }\n",
        "      return test_results"
      ]
    },
    {
      "cell_type": "code",
      "execution_count": null,
      "metadata": {
        "colab": {
          "base_uri": "https://localhost:8080/"
        },
        "id": "Gk3uAo1JkPHh",
        "outputId": "c3a9f923-44d8-4f4f-f40a-60ea6c4a314f"
      },
      "outputs": [],
      "source": [
        "test_results = test(threshold=0.5)\n",
        "print(f'Test Accuracy: {test_results[1]:.4f}, Test Precision: {test_results[2]:.4f}, Test Recall: {test_results[3]:.4f}, Test F1: {test_results[4]:.4f}, Test Average Precision: {test_results[5]: .4f}')"
      ]
    },
    {
      "cell_type": "markdown",
      "metadata": {
        "id": "amHHH9eISRuJ"
      },
      "source": [
        "# Graph Attention Network\n",
        "\n"
      ]
    },
    {
      "cell_type": "markdown",
      "metadata": {
        "id": "GV5b9gh6mXCv"
      },
      "source": [
        "## GAT (all features)"
      ]
    },
    {
      "cell_type": "code",
      "execution_count": null,
      "metadata": {
        "id": "M3RIlIrYSRuK"
      },
      "outputs": [],
      "source": [
        "import torch.nn as nn\n",
        "from torch.nn import Linear, LayerNorm, ReLU, Dropout\n",
        "import torch.nn.functional as F\n",
        "from torch_geometric.nn import GATConv\n",
        "\n",
        "\n",
        "class GAT(torch.nn.Module):\n",
        "    def __init__(self, hidden_dim, args):\n",
        "        super(GAT, self).__init__()\n",
        "        # use GAT message passing \n",
        "        self.conv1 = GATConv(num_features, hidden_dim, heads=args['heads'])\n",
        "        self.conv2 = GATConv(args['heads'] * hidden_dim, num_classes, heads=args['heads'])\n",
        "        self.classifier = Linear(4, 1)\n",
        "        \n",
        "    def forward(self, x, edge_index, adj=None):\n",
        "        # Layer 1\n",
        "        x = self.conv1(x, edge_index)\n",
        "        x = F.dropout(F.relu(x), p=args['dropout'], training=self.training)\n",
        "        # Layer 2\n",
        "        x = self.conv2(x, edge_index)\n",
        "        x = F.dropout(F.relu(x), p=args['dropout'], training=self.training)\n",
        "        # MLP output\n",
        "        x = self.classifier(x)\n",
        "\n",
        "        return torch.sigmoid(x)"
      ]
    },
    {
      "cell_type": "code",
      "execution_count": null,
      "metadata": {
        "colab": {
          "base_uri": "https://localhost:8080/"
        },
        "id": "w9tNveuiSRuL",
        "outputId": "c91a5472-efda-47db-bd07-e40e0f3634d7"
      },
      "outputs": [],
      "source": [
        "args={\"epochs\":500,\n",
        "      'lr':0.01,\n",
        "      'weight_decay':1e-5,\n",
        "      'heads':2,\n",
        "      'hidden_dim': 128, \n",
        "      'dropout': 0.5\n",
        "      }\n",
        "\n",
        "print(torch.cuda.is_available())\n",
        "device = torch.device('cuda' if torch.cuda.is_available() else 'cpu')\n",
        "      \n",
        "model = GAT(args['hidden_dim'], args)\n",
        "print(model)\n"
      ]
    },
    {
      "cell_type": "code",
      "execution_count": null,
      "metadata": {
        "colab": {
          "base_uri": "https://localhost:8080/"
        },
        "id": "exgZb4IQSRuM",
        "outputId": "6b6591ea-e8f2-43bd-c2bf-d226c24845b7"
      },
      "outputs": [],
      "source": [
        "model = GAT(args['hidden_dim'], args)\n",
        "model.to(device)\n",
        "\n",
        "data = data.to(device)\n",
        "\n",
        "\n",
        "optimizer = torch.optim.Adam(model.parameters(), lr=args['lr'], weight_decay=args['weight_decay'])\n",
        "scheduler = torch.optim.lr_scheduler.ReduceLROnPlateau(optimizer, 'min')\n",
        "criterion = torch.nn.BCELoss()\n",
        "\n",
        "def train():\n",
        "      model.train()\n",
        "      optimizer.zero_grad()  # Clear gradients.\n",
        "      out = model(data.x, data.edge_index)  # Perform a single forward pass.\n",
        "      out = out.reshape((data.x.shape[0]))\n",
        "      loss = criterion(out[train_mask], data.y[train_mask].float())  # Compute the loss solely based on the training nodes.\n",
        "      loss.backward()  # Derive gradients.\n",
        "      optimizer.step()  # Update parameters based on gradients.\n",
        "      return loss\n",
        "\n",
        "\n",
        "for epoch in range(args[\"epochs\"]+1):\n",
        "    loss = train()\n",
        "    if epoch % 5 == 0:\n",
        "      print(f'Epoch: {epoch:03d}, Loss: {loss:.4f}')\n"
      ]
    },
    {
      "cell_type": "code",
      "execution_count": null,
      "metadata": {
        "id": "iw4lI9b4SRuM"
      },
      "outputs": [],
      "source": [
        "from sklearn.metrics import accuracy_score, precision_score, recall_score, f1_score, average_precision_score\n",
        "\n",
        "\n",
        "def test(threshold=0.5):\n",
        "      model.eval()\n",
        "      out = model(data.x, data.edge_index)\n",
        "      out = out.reshape((data.x.shape[0]))\n",
        "      \n",
        "      pred_scores = out.detach().cpu().numpy()[test_mask]\n",
        "      pred_labels = pred_scores > threshold\n",
        "\n",
        "      original_data = data.detach().cpu()\n",
        "      target_labels = original_data.y[test_mask]\n",
        "\n",
        "      test_accuracy = accuracy_score(target_labels, pred_labels)\n",
        "      test_precision = precision_score(target_labels, pred_labels)\n",
        "      test_recall = recall_score(target_labels, pred_labels)\n",
        "      test_f1 = f1_score(target_labels, pred_labels)\n",
        "      test_average_precision = average_precision_score(target_labels, pred_scores)\n",
        "\n",
        "      test_results = {\n",
        "          1: test_accuracy,\n",
        "          2: test_precision,\n",
        "          3: test_recall,\n",
        "          4: test_f1,\n",
        "          5: test_average_precision\n",
        "      }\n",
        "      return test_results"
      ]
    },
    {
      "cell_type": "code",
      "execution_count": null,
      "metadata": {
        "id": "f2106tlASRuN"
      },
      "outputs": [],
      "source": [
        "test_results = test(threshold=0.5)\n",
        "print(f'Test Accuracy: {test_results[1]:.4f}, Test Precision: {test_results[2]:.4f}, Test Recall: {test_results[3]:.4f}, Test F1: {test_results[4]:.4f}, Test Average Precision: {test_results[5]: .4f}')"
      ]
    },
    {
      "cell_type": "markdown",
      "metadata": {
        "id": "sxr1iTLRm8mx"
      },
      "source": [
        "## GAT (local features)"
      ]
    },
    {
      "cell_type": "code",
      "execution_count": null,
      "metadata": {
        "id": "JbSVTzj1m8my"
      },
      "outputs": [],
      "source": [
        "import torch.nn as nn\n",
        "from torch.nn import Linear, LayerNorm, ReLU, Dropout\n",
        "import torch.nn.functional as F\n",
        "from torch_geometric.nn import GATConv\n",
        "\n",
        "\n",
        "class GAT(torch.nn.Module):\n",
        "    def __init__(self, hidden_dim, args):\n",
        "        super(GAT, self).__init__()\n",
        "        # use GAT message passing \n",
        "        self.conv1 = GATConv(num_features_local, hidden_dim, heads=args['heads'])\n",
        "        self.conv2 = GATConv(args['heads'] * hidden_dim, num_classes, heads=args['heads'])\n",
        "        self.classifier = Linear(4, 1)\n",
        "        \n",
        "    def forward(self, x, edge_index, adj=None):\n",
        "        # Layer 1\n",
        "        x = self.conv1(x, edge_index)\n",
        "        x = F.dropout(F.relu(x), p=args['dropout'], training=self.training)\n",
        "        # Layer 2\n",
        "        x = self.conv2(x, edge_index)\n",
        "        x = F.dropout(F.relu(x), p=args['dropout'], training=self.training)\n",
        "        # MLP output\n",
        "        x = self.classifier(x)\n",
        "\n",
        "        return torch.sigmoid(x)"
      ]
    },
    {
      "cell_type": "code",
      "execution_count": null,
      "metadata": {
        "colab": {
          "base_uri": "https://localhost:8080/"
        },
        "id": "eZzyeGf7m8my",
        "outputId": "dbbbfad1-741a-4935-cc15-a56caef4b419"
      },
      "outputs": [],
      "source": [
        "args={\"epochs\":500,\n",
        "      'lr':0.01,\n",
        "      'weight_decay':1e-5,\n",
        "      'heads':2,\n",
        "      'hidden_dim': 32, \n",
        "      'dropout': 0.5\n",
        "      }\n",
        "\n",
        "print(torch.cuda.is_available())\n",
        "device = torch.device('cuda' if torch.cuda.is_available() else 'cpu')\n",
        "      \n",
        "model = GAT(args['hidden_dim'], args)\n",
        "print(model)\n"
      ]
    },
    {
      "cell_type": "code",
      "execution_count": null,
      "metadata": {
        "colab": {
          "base_uri": "https://localhost:8080/"
        },
        "id": "lBEMjjUim8m1",
        "outputId": "91b7db5a-d868-4f0c-d2c8-4ad3f777966d"
      },
      "outputs": [],
      "source": [
        "model = GAT(args['hidden_dim'], args)\n",
        "model.to(device)\n",
        "\n",
        "local_data = data_local.to(device)\n",
        "\n",
        "\n",
        "optimizer = torch.optim.Adam(model.parameters(), lr=args['lr'], weight_decay=args['weight_decay'])\n",
        "scheduler = torch.optim.lr_scheduler.ReduceLROnPlateau(optimizer, 'min')\n",
        "criterion = torch.nn.BCELoss()\n",
        "\n",
        "def train():\n",
        "      model.train()\n",
        "      optimizer.zero_grad()  # Clear gradients.\n",
        "      out = model(local_data.x, local_data.edge_index)  # Perform a single forward pass.\n",
        "      out = out.reshape((local_data.x.shape[0]))\n",
        "      loss = criterion(out[train_mask], local_data.y[train_mask].float())  # Compute the loss solely based on the training nodes.\n",
        "      loss.backward()  # Derive gradients.\n",
        "      optimizer.step()  # Update parameters based on gradients.\n",
        "      return loss\n",
        "\n",
        "\n",
        "for epoch in range(args[\"epochs\"]+1):\n",
        "    loss = train()\n",
        "    if epoch % 5 == 0:\n",
        "      print(f'Epoch: {epoch:03d}, Loss: {loss:.4f}')\n"
      ]
    },
    {
      "cell_type": "code",
      "execution_count": null,
      "metadata": {
        "id": "WQa11x79m8m1"
      },
      "outputs": [],
      "source": [
        "from sklearn.metrics import accuracy_score, precision_score, recall_score, f1_score, average_precision_score\n",
        "\n",
        "\n",
        "def test(threshold=0.5):\n",
        "      model.eval()\n",
        "      out = model(local_data.x, local_data.edge_index)\n",
        "      out = out.reshape((local_data.x.shape[0]))\n",
        "      \n",
        "      pred_scores = out.detach().cpu().numpy()[test_mask]\n",
        "      pred_labels = pred_scores > threshold\n",
        "\n",
        "      original_data = local_data.detach().cpu()\n",
        "      target_labels = original_data.y[test_mask]\n",
        "\n",
        "      test_accuracy = accuracy_score(target_labels, pred_labels)\n",
        "      test_precision = precision_score(target_labels, pred_labels)\n",
        "      test_recall = recall_score(target_labels, pred_labels)\n",
        "      test_f1 = f1_score(target_labels, pred_labels)\n",
        "      test_average_precision = average_precision_score(target_labels, pred_scores)\n",
        "\n",
        "      test_results = {\n",
        "          1: test_accuracy,\n",
        "          2: test_precision,\n",
        "          3: test_recall,\n",
        "          4: test_f1,\n",
        "          5: test_average_precision\n",
        "      }\n",
        "      return test_results"
      ]
    },
    {
      "cell_type": "code",
      "execution_count": null,
      "metadata": {
        "colab": {
          "base_uri": "https://localhost:8080/"
        },
        "id": "ZkvvlPBQm8m2",
        "outputId": "afc09120-f2ed-49c7-ec7c-fdc6d2da34dc"
      },
      "outputs": [],
      "source": [
        "test_results = test(threshold=0.5)\n",
        "print(f'Test Accuracy: {test_results[1]:.4f}, Test Precision: {test_results[2]:.4f}, Test Recall: {test_results[3]:.4f}, Test F1: {test_results[4]:.4f}, Test Average Precision: {test_results[5]: .4f}')"
      ]
    },
    {
      "cell_type": "markdown",
      "metadata": {
        "id": "Nlz5mLdwdGSD"
      },
      "source": [
        "# GraphSAGE (inductive)"
      ]
    },
    {
      "cell_type": "markdown",
      "metadata": {
        "id": "sOeYnJRNqqsq"
      },
      "source": [
        "## GraphSAGE (all features)"
      ]
    },
    {
      "cell_type": "code",
      "execution_count": null,
      "metadata": {
        "id": "3gbXnCoYqwIN"
      },
      "outputs": [],
      "source": [
        "import copy\n",
        "\n",
        "import torch.nn as nn\n",
        "from torch_geometric.nn import SAGEConv\n",
        "from torch.nn import Linear\n",
        "import torch.nn.functional as F\n",
        "\n",
        "from torch_geometric.loader import NeighborLoader\n",
        "\n",
        "device = torch.device('cuda' if torch.cuda.is_available() else 'cpu')\n",
        "data = data.to(device, 'x', 'y')\n",
        "\n",
        "train_loader = NeighborLoader(\n",
        "    data,\n",
        "    # Sample all neighbors for each node for 2 iterations\n",
        "    num_neighbors=[-1, -1],\n",
        "    # Use a batch size of 128 for sampling training nodes\n",
        "    batch_size=128,\n",
        "    input_nodes=data.train_mask,\n",
        "    shuffle=True\n",
        ")\n",
        "\n",
        "subgraph_loader = NeighborLoader(copy.copy(data), input_nodes=None,\n",
        "                                 num_neighbors=[-1], batch_size=128, shuffle=False)"
      ]
    },
    {
      "cell_type": "code",
      "execution_count": null,
      "metadata": {
        "colab": {
          "base_uri": "https://localhost:8080/"
        },
        "id": "mv5R1jSy3f_s",
        "outputId": "dd67c15c-b38f-4be3-84cb-4a760431b9c2"
      },
      "outputs": [],
      "source": [
        "for s in train_loader:\n",
        "  print(s)\n",
        "  break\n",
        "\n",
        "# No need to maintain these features during evaluation:\n",
        "del subgraph_loader.data.x, subgraph_loader.data.y\n",
        "# Add global node index information.\n",
        "subgraph_loader.data.num_nodes = data.num_nodes\n",
        "subgraph_loader.data.n_id = torch.arange(data.num_nodes)"
      ]
    },
    {
      "cell_type": "code",
      "execution_count": null,
      "metadata": {
        "colab": {
          "base_uri": "https://localhost:8080/"
        },
        "id": "Yx1Y6YmK-jOH",
        "outputId": "3c878b1e-d302-49b8-f670-406f4e336438"
      },
      "outputs": [],
      "source": [
        "from tqdm import tqdm\n",
        "\n",
        "class SAGE(torch.nn.Module):\n",
        "    def __init__(self, in_channels, hidden_channels, out_channels):\n",
        "        super().__init__()\n",
        "        self.convs = torch.nn.ModuleList()\n",
        "        self.convs.append(SAGEConv(in_channels, hidden_channels))\n",
        "        self.convs.append(SAGEConv(hidden_channels, out_channels))\n",
        "\n",
        "\n",
        "    def forward(self, x, edge_index):\n",
        "        for i, conv in enumerate(self.convs):\n",
        "            x = conv(x, edge_index)\n",
        "            if i < len(self.convs) - 1:\n",
        "                x = x.relu_()\n",
        "                x = F.dropout(x, p=0.5, training=self.training)\n",
        "        return x\n",
        "\n",
        "    @torch.no_grad()\n",
        "    def inference(self, x_all, subgraph_loader):\n",
        "        pbar = tqdm(total=len(subgraph_loader.dataset) * len(self.convs))\n",
        "        pbar.set_description('Evaluating')\n",
        "\n",
        "        # Compute representations of nodes layer by layer, using *all*\n",
        "        # available edges. This leads to faster computation in contrast to\n",
        "        # immediately computing the final representations of each batch:\n",
        "        for i, conv in enumerate(self.convs):\n",
        "            xs = []\n",
        "            for batch in subgraph_loader:\n",
        "                x = x_all[batch.n_id.to(x_all.device)].to(device)\n",
        "                x = conv(x, batch.edge_index.to(device))\n",
        "                if i < len(self.convs) - 1:\n",
        "                    x = x.relu_()\n",
        "                xs.append(x[:batch.batch_size].cpu())\n",
        "                pbar.update(batch.batch_size)\n",
        "            x_all = torch.cat(xs, dim=0)\n",
        "        pbar.close()\n",
        "        return x_all\n",
        "\n",
        "\n",
        "model = SAGE(num_features, 100, num_classes).to(device)\n",
        "optimizer = torch.optim.Adam(model.parameters(), lr=0.01)\n",
        "criterion = torch.nn.CrossEntropyLoss()\n",
        "\n",
        "print(model)"
      ]
    },
    {
      "cell_type": "code",
      "execution_count": null,
      "metadata": {
        "colab": {
          "base_uri": "https://localhost:8080/"
        },
        "id": "iRASRhMKKbok",
        "outputId": "97526187-450a-4049-949c-bcddd12885ed"
      },
      "outputs": [],
      "source": [
        "def train(epoch):\n",
        "    model.train()\n",
        "\n",
        "    pbar = tqdm(total=int(len(train_loader.dataset)))\n",
        "    pbar.set_description(f'Epoch {epoch:02d}')\n",
        "\n",
        "    total_loss = total_correct = total_examples = 0\n",
        "    for batch in train_loader:\n",
        "        optimizer.zero_grad()\n",
        "        y = batch.y[:batch.batch_size]\n",
        "        y_hat = model(batch.x, batch.edge_index.to(device))[:batch.batch_size]\n",
        "        loss = criterion(y_hat,y)\n",
        "        loss.backward()\n",
        "        optimizer.step()\n",
        "\n",
        "        total_loss += float(loss) * batch.batch_size\n",
        "        total_examples += batch.batch_size\n",
        "        pbar.update(batch.batch_size)\n",
        "    pbar.close()\n",
        "\n",
        "    return total_loss / total_examples\n",
        "\n",
        "\n",
        "for epoch in range(1, 51):\n",
        "    loss= train(epoch)\n",
        "    print(f'Epoch {epoch:02d}, Loss: {loss:.4f}')"
      ]
    },
    {
      "cell_type": "code",
      "execution_count": null,
      "metadata": {
        "id": "Dsj72ONVkr8Y"
      },
      "outputs": [],
      "source": [
        "from sklearn.metrics import accuracy_score, precision_score, recall_score, f1_score, average_precision_score\n",
        "\n",
        "@torch.no_grad()\n",
        "def test():\n",
        "    model.eval()\n",
        "    out = model.inference(data.x, subgraph_loader)\n",
        "    y_hat = out.argmax(dim=-1)\n",
        "    y = data.y.to(y_hat.device)\n",
        "\n",
        "    test_acc = int((y_hat[test_mask] == y[test_mask]).sum()) / int(test_mask.sum())\n",
        "\n",
        "    pred_scores = out[:,1][test_mask]\n",
        "    target_labels = y[test_mask]\n",
        "    pred_labels = y_hat[test_mask]\n",
        "\n",
        "    test_accuracy = accuracy_score(target_labels, pred_labels)\n",
        "    test_precision = precision_score(target_labels, pred_labels)\n",
        "    test_recall = recall_score(target_labels, pred_labels)\n",
        "    test_f1 = f1_score(target_labels, pred_labels)\n",
        "    test_average_precision = average_precision_score(target_labels, pred_scores)\n",
        "    test_results = {\n",
        "          1: test_accuracy,\n",
        "          2: test_precision,\n",
        "          3: test_recall,\n",
        "          4: test_f1,\n",
        "          5: test_average_precision\n",
        "    }\n",
        "    return test_results"
      ]
    },
    {
      "cell_type": "code",
      "execution_count": null,
      "metadata": {
        "colab": {
          "base_uri": "https://localhost:8080/"
        },
        "id": "4xVSvJARwv-n",
        "outputId": "11727360-2fd8-43de-b4bf-deb97319d438"
      },
      "outputs": [],
      "source": [
        "test_results = test()\n",
        "print(f'Test Accuracy: {test_results[1]:.4f}, Test Precision: {test_results[2]:.4f}, Test Recall: {test_results[3]:.4f}, Test F1: {test_results[4]:.4f}, Test AP: {test_results[5]:.4f}')"
      ]
    },
    {
      "cell_type": "markdown",
      "metadata": {
        "id": "X08RFf65xDrp"
      },
      "source": [
        "## GraphSAGE (local features)"
      ]
    },
    {
      "cell_type": "code",
      "execution_count": null,
      "metadata": {
        "id": "Co7cJernxDrr"
      },
      "outputs": [],
      "source": [
        "import copy\n",
        "\n",
        "import torch.nn as nn\n",
        "from torch_geometric.nn import SAGEConv\n",
        "from torch.nn import Linear\n",
        "import torch.nn.functional as F\n",
        "\n",
        "from torch_geometric.loader import NeighborLoader\n",
        "\n",
        "\n",
        "device = torch.device('cuda' if torch.cuda.is_available() else 'cpu')\n",
        "local_data = data_local.to(device, 'x', 'y')\n",
        "\n",
        "train_loader = NeighborLoader(\n",
        "    local_data,\n",
        "    # Sample all neighbors for each node for 2 iterations\n",
        "    num_neighbors=[-1, -1],\n",
        "    # Use a batch size of 128 for sampling training nodes\n",
        "    batch_size=128,\n",
        "    input_nodes=local_data.train_mask,\n",
        "    shuffle=True\n",
        ")\n",
        "\n",
        "subgraph_loader = NeighborLoader(copy.copy(local_data), input_nodes=None,\n",
        "                                 num_neighbors=[-1], batch_size=128, shuffle=False)"
      ]
    },
    {
      "cell_type": "code",
      "execution_count": null,
      "metadata": {
        "colab": {
          "base_uri": "https://localhost:8080/"
        },
        "id": "dd7nM3FaxDrr",
        "outputId": "6ba37772-c0cf-4cce-fa99-4f20322f0393"
      },
      "outputs": [],
      "source": [
        "for s in train_loader:\n",
        "  print(s)\n",
        "  break\n",
        "\n",
        "# No need to maintain these features during evaluation:\n",
        "del subgraph_loader.data.x, subgraph_loader.data.y\n",
        "# Add global node index information.\n",
        "subgraph_loader.data.num_nodes = data.num_nodes\n",
        "subgraph_loader.data.n_id = torch.arange(data.num_nodes)"
      ]
    },
    {
      "cell_type": "code",
      "execution_count": null,
      "metadata": {
        "colab": {
          "base_uri": "https://localhost:8080/"
        },
        "id": "mVIO032nxDrs",
        "outputId": "ddf37d98-2102-45a2-f0e4-2b22718478be"
      },
      "outputs": [],
      "source": [
        "from tqdm import tqdm\n",
        "\n",
        "class SAGE(torch.nn.Module):\n",
        "    def __init__(self, in_channels, hidden_channels, out_channels):\n",
        "        super().__init__()\n",
        "        self.convs = torch.nn.ModuleList()\n",
        "        self.convs.append(SAGEConv(in_channels, hidden_channels))\n",
        "        self.convs.append(SAGEConv(hidden_channels, out_channels))\n",
        "\n",
        "\n",
        "    def forward(self, x, edge_index):\n",
        "        for i, conv in enumerate(self.convs):\n",
        "            x = conv(x, edge_index)\n",
        "            if i < len(self.convs) - 1:\n",
        "                x = x.relu_()\n",
        "                x = F.dropout(x, p=0.5, training=self.training)\n",
        "        return x\n",
        "\n",
        "    @torch.no_grad()\n",
        "    def inference(self, x_all, subgraph_loader):\n",
        "        pbar = tqdm(total=len(subgraph_loader.dataset) * len(self.convs))\n",
        "        pbar.set_description('Evaluating')\n",
        "\n",
        "        # Compute representations of nodes layer by layer, using *all*\n",
        "        # available edges. This leads to faster computation in contrast to\n",
        "        # immediately computing the final representations of each batch:\n",
        "        for i, conv in enumerate(self.convs):\n",
        "            xs = []\n",
        "            for batch in subgraph_loader:\n",
        "                x = x_all[batch.n_id.to(x_all.device)].to(device)\n",
        "                x = conv(x, batch.edge_index.to(device))\n",
        "                if i < len(self.convs) - 1:\n",
        "                    x = x.relu_()\n",
        "                xs.append(x[:batch.batch_size].cpu())\n",
        "                pbar.update(batch.batch_size)\n",
        "            x_all = torch.cat(xs, dim=0)\n",
        "        pbar.close()\n",
        "        return x_all\n",
        "\n",
        "\n",
        "model = SAGE(num_features_local, 32, num_classes).to(device)\n",
        "optimizer = torch.optim.Adam(model.parameters(), lr=0.01)\n",
        "criterion = torch.nn.CrossEntropyLoss()\n",
        "\n",
        "print(model)"
      ]
    },
    {
      "cell_type": "code",
      "execution_count": null,
      "metadata": {
        "colab": {
          "base_uri": "https://localhost:8080/"
        },
        "id": "BzADulKFxDrs",
        "outputId": "6797206d-a487-48cd-b30e-ca369b16b3a8"
      },
      "outputs": [],
      "source": [
        "def train(epoch):\n",
        "    model.train()\n",
        "\n",
        "    pbar = tqdm(total=int(len(train_loader.dataset)))\n",
        "    pbar.set_description(f'Epoch {epoch:02d}')\n",
        "\n",
        "    total_loss = total_correct = total_examples = 0\n",
        "    for batch in train_loader:\n",
        "        optimizer.zero_grad()\n",
        "        y = batch.y[:batch.batch_size]\n",
        "        y_hat = model(batch.x, batch.edge_index.to(device))[:batch.batch_size]\n",
        "        loss = criterion(y_hat,y)\n",
        "        loss.backward()\n",
        "        optimizer.step()\n",
        "\n",
        "        total_loss += float(loss) * batch.batch_size\n",
        "        total_examples += batch.batch_size\n",
        "        pbar.update(batch.batch_size)\n",
        "    pbar.close()\n",
        "\n",
        "    return total_loss / total_examples\n",
        "\n",
        "\n",
        "for epoch in range(1, 51):\n",
        "    loss= train(epoch)\n",
        "    print(f'Epoch {epoch:02d}, Loss: {loss:.4f}')"
      ]
    },
    {
      "cell_type": "code",
      "execution_count": null,
      "metadata": {
        "id": "nGJtbHhFxDrs"
      },
      "outputs": [],
      "source": [
        "from sklearn.metrics import accuracy_score, precision_score, recall_score, f1_score, average_precision_score\n",
        "\n",
        "@torch.no_grad()\n",
        "def test():\n",
        "    model.eval()\n",
        "    out = model.inference(local_data.x, subgraph_loader)\n",
        "    y_hat = out.argmax(dim=-1)\n",
        "    y = local_data.y.to(y_hat.device)\n",
        "\n",
        "    test_acc = int((y_hat[test_mask] == y[test_mask]).sum()) / int(test_mask.sum())\n",
        "\n",
        "    pred_scores = out[:,1][test_mask]\n",
        "    target_labels = y[test_mask]\n",
        "    pred_labels = y_hat[test_mask]\n",
        "\n",
        "    test_accuracy = accuracy_score(target_labels, pred_labels)\n",
        "    test_precision = precision_score(target_labels, pred_labels)\n",
        "    test_recall = recall_score(target_labels, pred_labels)\n",
        "    test_f1 = f1_score(target_labels, pred_labels)\n",
        "    test_average_precision = average_precision_score(target_labels, pred_scores)\n",
        "    test_results = {\n",
        "          1: test_accuracy,\n",
        "          2: test_precision,\n",
        "          3: test_recall,\n",
        "          4: test_f1,\n",
        "          5: test_average_precision\n",
        "    }\n",
        "    return test_results"
      ]
    },
    {
      "cell_type": "code",
      "execution_count": null,
      "metadata": {
        "colab": {
          "base_uri": "https://localhost:8080/"
        },
        "id": "4m9gfLH7xDrt",
        "outputId": "10255bb9-165a-452d-847e-a2dca545b58a"
      },
      "outputs": [],
      "source": [
        "test_results = test()\n",
        "print(f'Test Accuracy: {test_results[1]:.4f}, Test Precision: {test_results[2]:.4f}, Test Recall: {test_results[3]:.4f}, Test F1: {test_results[4]:.4f}, Test AP: {test_results[5]:.4f}')"
      ]
    },
    {
      "cell_type": "markdown",
      "metadata": {
        "id": "P9uHUVnB3JJK"
      },
      "source": [
        "## GraphSAGE (weighted loss)"
      ]
    },
    {
      "cell_type": "code",
      "execution_count": null,
      "metadata": {
        "id": "3OxVMzuG3JJL"
      },
      "outputs": [],
      "source": [
        "import copy\n",
        "\n",
        "import torch.nn as nn\n",
        "from torch_geometric.nn import SAGEConv\n",
        "from torch.nn import Linear\n",
        "import torch.nn.functional as F\n",
        "\n",
        "from torch_geometric.loader import NeighborLoader\n",
        "\n",
        "device = torch.device('cuda' if torch.cuda.is_available() else 'cpu')\n",
        "data = data.to(device, 'x', 'y')\n",
        "\n",
        "train_loader = NeighborLoader(\n",
        "    data,\n",
        "    # Sample all neighbors for each node for 2 iterations\n",
        "    num_neighbors=[-1, -1],\n",
        "    # Use a batch size of 128 for sampling training nodes\n",
        "    batch_size=128,\n",
        "    input_nodes=data.train_mask,\n",
        "    shuffle=True\n",
        ")\n",
        "\n",
        "subgraph_loader = NeighborLoader(copy.copy(data), input_nodes=None,\n",
        "                                 num_neighbors=[-1], batch_size=128, shuffle=False)"
      ]
    },
    {
      "cell_type": "code",
      "execution_count": null,
      "metadata": {
        "colab": {
          "base_uri": "https://localhost:8080/"
        },
        "id": "ZMjW5vXU3JJN",
        "outputId": "208b5cf9-b2aa-4d74-fcca-cbabe38ec134"
      },
      "outputs": [],
      "source": [
        "for s in train_loader:\n",
        "  print(s)\n",
        "  break\n",
        "\n",
        "# No need to maintain these features during evaluation:\n",
        "del subgraph_loader.data.x, subgraph_loader.data.y\n",
        "# Add global node index information.\n",
        "subgraph_loader.data.num_nodes = data.num_nodes\n",
        "subgraph_loader.data.n_id = torch.arange(data.num_nodes)"
      ]
    },
    {
      "cell_type": "code",
      "execution_count": null,
      "metadata": {
        "colab": {
          "base_uri": "https://localhost:8080/"
        },
        "id": "HR_tyBDO3JJO",
        "outputId": "1b4ed50f-560f-45ba-896e-bb81cd1d0ce1"
      },
      "outputs": [],
      "source": [
        "from tqdm import tqdm\n",
        "\n",
        "class SAGE(torch.nn.Module):\n",
        "    def __init__(self, in_channels, hidden_channels, out_channels):\n",
        "        super().__init__()\n",
        "        self.convs = torch.nn.ModuleList()\n",
        "        self.convs.append(SAGEConv(in_channels, hidden_channels))\n",
        "        self.convs.append(SAGEConv(hidden_channels, out_channels))\n",
        "\n",
        "\n",
        "    def forward(self, x, edge_index):\n",
        "        for i, conv in enumerate(self.convs):\n",
        "            x = conv(x, edge_index)\n",
        "            if i < len(self.convs) - 1:\n",
        "                x = x.relu_()\n",
        "                x = F.dropout(x, p=0.5, training=self.training)\n",
        "        return x\n",
        "\n",
        "    @torch.no_grad()\n",
        "    def inference(self, x_all, subgraph_loader):\n",
        "        pbar = tqdm(total=len(subgraph_loader.dataset) * len(self.convs))\n",
        "        pbar.set_description('Evaluating')\n",
        "\n",
        "        # Compute representations of nodes layer by layer, using *all*\n",
        "        # available edges. This leads to faster computation in contrast to\n",
        "        # immediately computing the final representations of each batch:\n",
        "        for i, conv in enumerate(self.convs):\n",
        "            xs = []\n",
        "            for batch in subgraph_loader:\n",
        "                x = x_all[batch.n_id.to(x_all.device)].to(device)\n",
        "                x = conv(x, batch.edge_index.to(device))\n",
        "                if i < len(self.convs) - 1:\n",
        "                    x = x.relu_()\n",
        "                xs.append(x[:batch.batch_size].cpu())\n",
        "                pbar.update(batch.batch_size)\n",
        "            x_all = torch.cat(xs, dim=0)\n",
        "        pbar.close()\n",
        "        return x_all\n",
        "\n",
        "\n",
        "model = SAGE(num_features, 100, num_classes).to(device)\n",
        "optimizer = torch.optim.Adam(model.parameters(), lr=0.01)\n",
        "\n",
        "weights = torch.tensor([0.3,0.7])\n",
        "weights = weights.to(device)\n",
        "\n",
        "\n",
        "criterion = torch.nn.CrossEntropyLoss(weight=weights)\n",
        "\n",
        "print(model)"
      ]
    },
    {
      "cell_type": "code",
      "execution_count": null,
      "metadata": {
        "colab": {
          "base_uri": "https://localhost:8080/"
        },
        "id": "aLYwiea33JJP",
        "outputId": "5155bee4-29ef-4b66-f3e6-01c23675c814"
      },
      "outputs": [],
      "source": [
        "def train(epoch):\n",
        "    model.train()\n",
        "\n",
        "    pbar = tqdm(total=int(len(train_loader.dataset)))\n",
        "    pbar.set_description(f'Epoch {epoch:02d}')\n",
        "\n",
        "    total_loss = total_correct = total_examples = 0\n",
        "    for batch in train_loader:\n",
        "        optimizer.zero_grad()\n",
        "        y = batch.y[:batch.batch_size]\n",
        "        y_hat = model(batch.x, batch.edge_index.to(device))[:batch.batch_size]\n",
        "        loss = criterion(y_hat,y)\n",
        "        loss.backward()\n",
        "        optimizer.step()\n",
        "\n",
        "        total_loss += float(loss) * batch.batch_size\n",
        "        total_examples += batch.batch_size\n",
        "        pbar.update(batch.batch_size)\n",
        "    pbar.close()\n",
        "\n",
        "    return total_loss / total_examples\n",
        "\n",
        "\n",
        "for epoch in range(1, 51):\n",
        "    loss= train(epoch)\n",
        "    print(f'Epoch {epoch:02d}, Loss: {loss:.4f}')"
      ]
    },
    {
      "cell_type": "code",
      "execution_count": null,
      "metadata": {
        "id": "RJdWoKSj3JJQ"
      },
      "outputs": [],
      "source": [
        "from sklearn.metrics import accuracy_score, precision_score, recall_score, f1_score, average_precision_score\n",
        "\n",
        "@torch.no_grad()\n",
        "def test():\n",
        "    model.eval()\n",
        "    out = model.inference(data.x, subgraph_loader)\n",
        "    y_hat = out.argmax(dim=-1)\n",
        "    y = data.y.to(y_hat.device)\n",
        "\n",
        "    test_acc = int((y_hat[test_mask] == y[test_mask]).sum()) / int(test_mask.sum())\n",
        "\n",
        "    pred_scores = out[:,1][test_mask]\n",
        "    target_labels = y[test_mask]\n",
        "    pred_labels = y_hat[test_mask]\n",
        "\n",
        "    test_accuracy = accuracy_score(target_labels, pred_labels)\n",
        "    test_precision = precision_score(target_labels, pred_labels)\n",
        "    test_recall = recall_score(target_labels, pred_labels)\n",
        "    test_f1 = f1_score(target_labels, pred_labels)\n",
        "    test_average_precision = average_precision_score(target_labels, pred_scores)\n",
        "    test_results = {\n",
        "          1: test_accuracy,\n",
        "          2: test_precision,\n",
        "          3: test_recall,\n",
        "          4: test_f1,\n",
        "          5: test_average_precision\n",
        "    }\n",
        "    return test_results"
      ]
    },
    {
      "cell_type": "code",
      "execution_count": null,
      "metadata": {
        "colab": {
          "base_uri": "https://localhost:8080/"
        },
        "id": "DxH_rtlA3JJU",
        "outputId": "8695c3c9-0143-4636-9cc7-b787a199977f"
      },
      "outputs": [],
      "source": [
        "test_results = test()\n",
        "print(f'Test Accuracy: {test_results[1]:.4f}, Test Precision: {test_results[2]:.4f}, Test Recall: {test_results[3]:.4f}, Test F1: {test_results[4]:.4f}, Test AP: {test_results[5]:.4f}')"
      ]
    },
    {
      "cell_type": "markdown",
      "metadata": {
        "id": "dx9BRkytFggQ"
      },
      "source": [
        "## GraphSAGE (imabalanced sampler)"
      ]
    },
    {
      "cell_type": "code",
      "execution_count": null,
      "metadata": {
        "id": "ZXMPtzX6FggZ"
      },
      "outputs": [],
      "source": [
        "import copy\n",
        "\n",
        "import torch.nn as nn\n",
        "from torch_geometric.nn import SAGEConv\n",
        "from torch.nn import Linear\n",
        "import torch.nn.functional as F\n",
        "\n",
        "from torch_geometric.loader import NeighborLoader, ImbalancedSampler\n",
        "\n",
        "\n",
        "device = torch.device('cuda' if torch.cuda.is_available() else 'cpu')\n",
        "data = data.to(device, 'x', 'y')\n",
        "\n",
        "sampler = ImbalancedSampler(data, input_nodes=data.train_mask)\n",
        "\n",
        "train_loader = NeighborLoader(\n",
        "    data,\n",
        "    # Sample all neighbors for each node for 2 iterations\n",
        "    num_neighbors=[-1, -1],\n",
        "    # Use a batch size of 128 for sampling training nodes\n",
        "    batch_size=128,\n",
        "    input_nodes=data.train_mask,\n",
        "    sampler=sampler,\n",
        ")\n",
        "\n",
        "subgraph_loader = NeighborLoader(copy.copy(data), input_nodes=None,\n",
        "                                 num_neighbors=[-1], batch_size=128, shuffle=False)"
      ]
    },
    {
      "cell_type": "code",
      "execution_count": null,
      "metadata": {
        "colab": {
          "base_uri": "https://localhost:8080/"
        },
        "id": "kljIVsjoFgga",
        "outputId": "451ac05e-0c27-4737-b1f8-4669936ce9ea"
      },
      "outputs": [],
      "source": [
        "for s in train_loader:\n",
        "  print(s)\n",
        "  break\n",
        "\n",
        "# No need to maintain these features during evaluation:\n",
        "del subgraph_loader.data.x, subgraph_loader.data.y\n",
        "# Add global node index information.\n",
        "subgraph_loader.data.num_nodes = data.num_nodes\n",
        "subgraph_loader.data.n_id = torch.arange(data.num_nodes)"
      ]
    },
    {
      "cell_type": "code",
      "execution_count": null,
      "metadata": {
        "colab": {
          "base_uri": "https://localhost:8080/"
        },
        "id": "j0C-H2ubFggb",
        "outputId": "569113c7-d37f-4f0a-c2e7-217562721fde"
      },
      "outputs": [],
      "source": [
        "from tqdm import tqdm\n",
        "\n",
        "class SAGE(torch.nn.Module):\n",
        "    def __init__(self, in_channels, hidden_channels, out_channels):\n",
        "        super().__init__()\n",
        "        self.convs = torch.nn.ModuleList()\n",
        "        self.convs.append(SAGEConv(in_channels, hidden_channels))\n",
        "        self.convs.append(SAGEConv(hidden_channels, out_channels))\n",
        "\n",
        "\n",
        "    def forward(self, x, edge_index):\n",
        "        for i, conv in enumerate(self.convs):\n",
        "            x = conv(x, edge_index)\n",
        "            if i < len(self.convs) - 1:\n",
        "                x = x.relu_()\n",
        "                x = F.dropout(x, p=0.5, training=self.training)\n",
        "        return x\n",
        "\n",
        "    @torch.no_grad()\n",
        "    def inference(self, x_all, subgraph_loader):\n",
        "        pbar = tqdm(total=len(subgraph_loader.dataset) * len(self.convs))\n",
        "        pbar.set_description('Evaluating')\n",
        "\n",
        "        # Compute representations of nodes layer by layer, using *all*\n",
        "        # available edges. This leads to faster computation in contrast to\n",
        "        # immediately computing the final representations of each batch:\n",
        "        for i, conv in enumerate(self.convs):\n",
        "            xs = []\n",
        "            for batch in subgraph_loader:\n",
        "                x = x_all[batch.n_id.to(x_all.device)].to(device)\n",
        "                x = conv(x, batch.edge_index.to(device))\n",
        "                if i < len(self.convs) - 1:\n",
        "                    x = x.relu_()\n",
        "                xs.append(x[:batch.batch_size].cpu())\n",
        "                pbar.update(batch.batch_size)\n",
        "            x_all = torch.cat(xs, dim=0)\n",
        "        pbar.close()\n",
        "        return x_all\n",
        "\n",
        "\n",
        "model = SAGE(num_features, 100, num_classes).to(device)\n",
        "optimizer = torch.optim.Adam(model.parameters(), lr=0.01)\n",
        "criterion = torch.nn.CrossEntropyLoss()\n",
        "\n",
        "print(model)"
      ]
    },
    {
      "cell_type": "code",
      "execution_count": null,
      "metadata": {
        "colab": {
          "base_uri": "https://localhost:8080/"
        },
        "id": "pPuBu66xFggb",
        "outputId": "bd4d8032-2528-44bc-9df5-063f159b1bac"
      },
      "outputs": [],
      "source": [
        "def train(epoch):\n",
        "    model.train()\n",
        "\n",
        "    pbar = tqdm(total=int(len(train_loader.dataset)))\n",
        "    pbar.set_description(f'Epoch {epoch:02d}')\n",
        "\n",
        "    total_loss = total_correct = total_examples = 0\n",
        "    for batch in train_loader:\n",
        "        optimizer.zero_grad()\n",
        "        y = batch.y[:batch.batch_size]\n",
        "        y_hat = model(batch.x, batch.edge_index.to(device))[:batch.batch_size]\n",
        "        loss = criterion(y_hat,y)\n",
        "        loss.backward()\n",
        "        optimizer.step()\n",
        "\n",
        "        total_loss += float(loss) * batch.batch_size\n",
        "        total_examples += batch.batch_size\n",
        "        pbar.update(batch.batch_size)\n",
        "    pbar.close()\n",
        "\n",
        "    return total_loss / total_examples #, total_correct / total_examples\n",
        "\n",
        "\n",
        "for epoch in range(1, 51):\n",
        "    loss= train(epoch)\n",
        "    print(f'Epoch {epoch:02d}, Loss: {loss:.4f}')"
      ]
    },
    {
      "cell_type": "code",
      "execution_count": null,
      "metadata": {
        "id": "nAhNtsJAFggc"
      },
      "outputs": [],
      "source": [
        "from sklearn.metrics import accuracy_score, precision_score, recall_score, f1_score, average_precision_score\n",
        "\n",
        "@torch.no_grad()\n",
        "def test():\n",
        "    model.eval()\n",
        "    out = model.inference(data.x, subgraph_loader)\n",
        "    y_hat = out.argmax(dim=-1)\n",
        "    y = data.y.to(y_hat.device)\n",
        "\n",
        "    test_acc = int((y_hat[test_mask] == y[test_mask]).sum()) / int(test_mask.sum())\n",
        "\n",
        "    pred_scores = out[:,1][test_mask]\n",
        "    target_labels = y[test_mask]\n",
        "    pred_labels = y_hat[test_mask]\n",
        "\n",
        "    test_accuracy = accuracy_score(target_labels, pred_labels)\n",
        "    test_precision = precision_score(target_labels, pred_labels)\n",
        "    test_recall = recall_score(target_labels, pred_labels)\n",
        "    test_f1 = f1_score(target_labels, pred_labels)\n",
        "    test_average_precision = average_precision_score(target_labels, pred_scores)\n",
        "    test_results = {\n",
        "          1: test_accuracy,\n",
        "          2: test_precision,\n",
        "          3: test_recall,\n",
        "          4: test_f1,\n",
        "          5: test_average_precision\n",
        "    }\n",
        "    return test_results"
      ]
    },
    {
      "cell_type": "code",
      "execution_count": null,
      "metadata": {
        "colab": {
          "base_uri": "https://localhost:8080/"
        },
        "id": "9CnKKZxpFggc",
        "outputId": "c1611bb4-1cb2-4f55-e1fb-8a9eccd3ce95"
      },
      "outputs": [],
      "source": [
        "test_results = test()\n",
        "print(f'Test Accuracy: {test_results[1]:.4f}, Test Precision: {test_results[2]:.4f}, Test Recall: {test_results[3]:.4f}, Test F1: {test_results[4]:.4f}, Test AP: {test_results[5]:.4f}')"
      ]
    },
    {
      "cell_type": "markdown",
      "metadata": {
        "id": "a7TNrTHFk0lB"
      },
      "source": [
        "# GeniePath\n"
      ]
    },
    {
      "cell_type": "markdown",
      "metadata": {
        "id": "77yNx8l-xu-b"
      },
      "source": [
        "## GeniePath (all features)"
      ]
    },
    {
      "cell_type": "code",
      "execution_count": null,
      "metadata": {
        "id": "XzCu62X1x2Z1"
      },
      "outputs": [],
      "source": [
        "import torch\n",
        "import torch.nn.functional as F\n",
        "from torch_geometric.nn import GATConv\n",
        "\n",
        "\n",
        "dim = 100\n",
        "lstm_hidden = 100\n",
        "heads = 1\n",
        "layer_num = 2\n",
        "\n",
        "\n",
        "class Breadth(torch.nn.Module):\n",
        "    def __init__(self, in_dim, out_dim):\n",
        "        super(Breadth, self).__init__()\n",
        "        self.gatconv = GATConv(in_dim, out_dim, heads=heads)\n",
        "\n",
        "    def forward(self, x, edge_index):\n",
        "        x = torch.tanh(self.gatconv(x, edge_index))\n",
        "        return x\n",
        "\n",
        "\n",
        "class Depth(torch.nn.Module):\n",
        "    def __init__(self, in_dim, hidden):\n",
        "        super(Depth, self).__init__()\n",
        "        self.lstm = torch.nn.LSTM(in_dim, hidden, 1, bias=False)\n",
        "\n",
        "    def forward(self, x, h, c):\n",
        "        x, (h, c) = self.lstm(x, (h, c))\n",
        "        return x, (h, c)\n",
        "\n",
        "\n",
        "class GeniePathLayer(torch.nn.Module):\n",
        "    def __init__(self, in_dim):\n",
        "        super(GeniePathLayer, self).__init__()\n",
        "        self.breadth_func = Breadth(in_dim, dim)\n",
        "        self.depth_func = Depth(dim, lstm_hidden)\n",
        "\n",
        "    def forward(self, x, edge_index, h, c):\n",
        "        x = self.breadth_func(x, edge_index)\n",
        "        x = x[None, :]\n",
        "        x, (h, c) = self.depth_func(x, h, c)\n",
        "        x = x[0]\n",
        "        return x, (h, c)\n",
        "\n",
        "\n",
        "class GeniePath(torch.nn.Module):\n",
        "    def __init__(self, in_dim, out_dim, device):\n",
        "        super(GeniePath, self).__init__()\n",
        "        self.device = device\n",
        "        self.lin1 = torch.nn.Linear(in_dim, dim)\n",
        "        self.gplayers = torch.nn.ModuleList([GeniePathLayer(dim) for i in range(layer_num)])\n",
        "        self.lin2 = torch.nn.Linear(dim, 1)\n",
        "\n",
        "    def forward(self, x, edge_index):\n",
        "        x = self.lin1(x)\n",
        "        h = torch.zeros(1, x.shape[0], lstm_hidden).to(self.device)\n",
        "        c = torch.zeros(1, x.shape[0], lstm_hidden).to(self.device)\n",
        "        for i, l in enumerate(self.gplayers):\n",
        "            x, (h, c) = self.gplayers[i](x, edge_index, h, c)\n",
        "        x = self.lin2(x)\n",
        "        return x\n",
        "\n",
        "\n",
        "class GeniePathLazy(torch.nn.Module):\n",
        "    def __init__(self, in_dim, out_dim, device):\n",
        "        super(GeniePathLazy, self).__init__()\n",
        "        self.device = device\n",
        "        self.lin1 = torch.nn.Linear(in_dim, dim)\n",
        "        self.breaths = torch.nn.ModuleList([Breadth(dim, dim) for i in range(layer_num)])\n",
        "        self.depths = torch.nn.ModuleList([Depth(dim * 2, lstm_hidden) for i in range(layer_num)])\n",
        "        self.lin2 = torch.nn.Linear(dim, 1)\n",
        "\n",
        "    def forward(self, x, edge_index):\n",
        "        x = self.lin1(x)\n",
        "        h = torch.zeros(1, x.shape[0], lstm_hidden).to(self.device)\n",
        "        c = torch.zeros(1, x.shape[0], lstm_hidden).to(self.device)\n",
        "        h_tmps = []\n",
        "        for i, l in enumerate(self.breaths):\n",
        "            h_tmps.append(self.breaths[i](x, edge_index))\n",
        "        x = x[None, :]\n",
        "        for i, l in enumerate(self.depths):\n",
        "            in_cat = torch.cat((h_tmps[i][None, :], x), -1)\n",
        "            x, (h, c) = self.depths[i](in_cat, h, c)\n",
        "        x = self.lin2(x[0])\n",
        "        return x"
      ]
    },
    {
      "cell_type": "code",
      "execution_count": null,
      "metadata": {
        "colab": {
          "base_uri": "https://localhost:8080/"
        },
        "id": "35Nn13OEzTXO",
        "outputId": "80c41059-d284-4f86-fd94-cff61ed42f84"
      },
      "outputs": [],
      "source": [
        "from sklearn import metrics\n",
        "\n",
        "device = torch.device('cuda' if torch.cuda.is_available() else 'cpu')\n",
        "model = GeniePathLazy(num_features, num_classes, device).to(device)\n",
        "criterion = torch.nn.BCEWithLogitsLoss()\n",
        "optimizer = torch.optim.Adam(model.parameters(), lr=0.005)\n",
        "\n",
        "data = data.to(device)\n",
        "\n",
        "def train():\n",
        "    model.train()\n",
        "\n",
        "    total_loss = 0\n",
        "    data.to(device)\n",
        "    optimizer.zero_grad()\n",
        "    out = model(data.x, data.edge_index)\n",
        "    print(out[train_mask])\n",
        "    print(data.y[train_mask])\n",
        "    out = out.reshape((data.x.shape[0]))\n",
        "    loss = criterion(out[train_mask], data.y[train_mask].float())\n",
        "    total_loss = loss\n",
        "    loss.backward()\n",
        "    optimizer.step()\n",
        "    return total_loss\n",
        "\n",
        "\n",
        "for epoch in range(1, 121):\n",
        "    loss = train()\n",
        "    print('Epoch: {:02d}, Loss: {:.4f}'.format(epoch, loss))\n"
      ]
    },
    {
      "cell_type": "code",
      "execution_count": null,
      "metadata": {
        "id": "6RgckkRgk9TJ"
      },
      "outputs": [],
      "source": [
        "from sklearn.metrics import accuracy_score, precision_score, recall_score, f1_score, average_precision_score\n",
        "\n",
        "def test():\n",
        "  model.eval()\n",
        "\n",
        "  out = model(data.x, data.edge_index)\n",
        "\n",
        "  pred_scores = out.detach().cpu().numpy()[test_mask]\n",
        "  pred_labels = pred_scores > 0\n",
        "\n",
        "  original_data = data.detach().cpu()\n",
        "  target_labels = original_data.y[test_mask]\n",
        "\n",
        "  test_accuracy = accuracy_score(target_labels, pred_labels)\n",
        "  test_precision = precision_score(target_labels, pred_labels)\n",
        "  test_recall = recall_score(target_labels, pred_labels)\n",
        "  test_f1 = f1_score(target_labels, pred_labels)\n",
        "  test_average_precision = average_precision_score(target_labels, pred_scores)\n",
        "\n",
        "  test_results = {\n",
        "          1: test_accuracy,\n",
        "          2: test_precision,\n",
        "          3: test_recall,\n",
        "          4: test_f1,\n",
        "          5: test_average_precision\n",
        "    }\n",
        "  return test_results"
      ]
    },
    {
      "cell_type": "code",
      "execution_count": null,
      "metadata": {
        "colab": {
          "base_uri": "https://localhost:8080/"
        },
        "id": "wo2MEOcdmf44",
        "outputId": "2bafabdf-b409-4d6f-f10c-93cbffc891b4"
      },
      "outputs": [],
      "source": [
        "test_results = test()\n",
        "print(f'Test Accuracy: {test_results[1]:.4f}, Test Precision: {test_results[2]:.4f}, Test Recall: {test_results[3]:.4f}, Test F1: {test_results[4]:.4f}, Test AP: {test_results[5]:.4f}')"
      ]
    },
    {
      "cell_type": "code",
      "execution_count": null,
      "metadata": {
        "colab": {
          "base_uri": "https://localhost:8080/"
        },
        "id": "Tipujbg8nq9D",
        "outputId": "83a7ad92-3a8e-4d96-e2a8-3d6c4c395117"
      },
      "outputs": [],
      "source": [
        "print(model)"
      ]
    },
    {
      "cell_type": "markdown",
      "metadata": {
        "id": "NgvOg-luqfPx"
      },
      "source": [
        "## GeniePath (local features)"
      ]
    },
    {
      "cell_type": "code",
      "execution_count": null,
      "metadata": {
        "id": "0ETLET6vqfPy"
      },
      "outputs": [],
      "source": [
        "import torch\n",
        "import torch.nn.functional as F\n",
        "from torch_geometric.nn import GATConv\n",
        "\n",
        "\n",
        "dim = 32\n",
        "lstm_hidden = 32\n",
        "heads = 1\n",
        "layer_num = 2\n",
        "\n",
        "\n",
        "class Breadth(torch.nn.Module):\n",
        "    def __init__(self, in_dim, out_dim):\n",
        "        super(Breadth, self).__init__()\n",
        "        self.gatconv = GATConv(in_dim, out_dim, heads=heads)\n",
        "\n",
        "    def forward(self, x, edge_index):\n",
        "        x = torch.tanh(self.gatconv(x, edge_index))\n",
        "        return x\n",
        "\n",
        "\n",
        "class Depth(torch.nn.Module):\n",
        "    def __init__(self, in_dim, hidden):\n",
        "        super(Depth, self).__init__()\n",
        "        self.lstm = torch.nn.LSTM(in_dim, hidden, 1, bias=False)\n",
        "\n",
        "    def forward(self, x, h, c):\n",
        "        x, (h, c) = self.lstm(x, (h, c))\n",
        "        return x, (h, c)\n",
        "\n",
        "\n",
        "class GeniePathLayer(torch.nn.Module):\n",
        "    def __init__(self, in_dim):\n",
        "        super(GeniePathLayer, self).__init__()\n",
        "        self.breadth_func = Breadth(in_dim, dim)\n",
        "        self.depth_func = Depth(dim, lstm_hidden)\n",
        "\n",
        "    def forward(self, x, edge_index, h, c):\n",
        "        x = self.breadth_func(x, edge_index)\n",
        "        x = x[None, :]\n",
        "        x, (h, c) = self.depth_func(x, h, c)\n",
        "        x = x[0]\n",
        "        return x, (h, c)\n",
        "\n",
        "\n",
        "class GeniePath(torch.nn.Module):\n",
        "    def __init__(self, in_dim, out_dim, device):\n",
        "        super(GeniePath, self).__init__()\n",
        "        self.device = device\n",
        "        self.lin1 = torch.nn.Linear(in_dim, dim)\n",
        "        self.gplayers = torch.nn.ModuleList([GeniePathLayer(dim) for i in range(layer_num)])\n",
        "        self.lin2 = torch.nn.Linear(dim, 1)\n",
        "\n",
        "    def forward(self, x, edge_index):\n",
        "        x = self.lin1(x)\n",
        "        h = torch.zeros(1, x.shape[0], lstm_hidden).to(self.device)\n",
        "        c = torch.zeros(1, x.shape[0], lstm_hidden).to(self.device)\n",
        "        for i, l in enumerate(self.gplayers):\n",
        "            x, (h, c) = self.gplayers[i](x, edge_index, h, c)\n",
        "        x = self.lin2(x)\n",
        "        return x\n",
        "\n",
        "\n",
        "class GeniePathLazy(torch.nn.Module):\n",
        "    def __init__(self, in_dim, out_dim, device):\n",
        "        super(GeniePathLazy, self).__init__()\n",
        "        self.device = device\n",
        "        self.lin1 = torch.nn.Linear(in_dim, dim)\n",
        "        self.breaths = torch.nn.ModuleList([Breadth(dim, dim) for i in range(layer_num)])\n",
        "        self.depths = torch.nn.ModuleList([Depth(dim * 2, lstm_hidden) for i in range(layer_num)])\n",
        "        self.lin2 = torch.nn.Linear(dim, 1)\n",
        "\n",
        "    def forward(self, x, edge_index):\n",
        "        x = self.lin1(x)\n",
        "        h = torch.zeros(1, x.shape[0], lstm_hidden).to(self.device)\n",
        "        c = torch.zeros(1, x.shape[0], lstm_hidden).to(self.device)\n",
        "        h_tmps = []\n",
        "        for i, l in enumerate(self.breaths):\n",
        "            h_tmps.append(self.breaths[i](x, edge_index))\n",
        "        x = x[None, :]\n",
        "        for i, l in enumerate(self.depths):\n",
        "            in_cat = torch.cat((h_tmps[i][None, :], x), -1)\n",
        "            x, (h, c) = self.depths[i](in_cat, h, c)\n",
        "        x = self.lin2(x[0])\n",
        "        return x"
      ]
    },
    {
      "cell_type": "code",
      "execution_count": null,
      "metadata": {
        "colab": {
          "base_uri": "https://localhost:8080/"
        },
        "id": "c4GJBUsMqfPy",
        "outputId": "0f90e58d-86e3-4787-b6e6-78290f6fac8e"
      },
      "outputs": [],
      "source": [
        "from sklearn import metrics\n",
        "\n",
        "device = torch.device('cuda' if torch.cuda.is_available() else 'cpu')\n",
        "model = GeniePathLazy(num_features_local, num_classes, device).to(device)\n",
        "criterion = torch.nn.BCEWithLogitsLoss()\n",
        "optimizer = torch.optim.Adam(model.parameters(), lr=0.005)\n",
        "\n",
        "local_data = data_local.to(device)\n",
        "\n",
        "def train():\n",
        "    model.train()\n",
        "\n",
        "    total_loss = 0\n",
        "    local_data.to(device)\n",
        "    optimizer.zero_grad()\n",
        "    out = model(local_data.x, local_data.edge_index)\n",
        "    print(out[train_mask])\n",
        "    print(local_data.y[train_mask])\n",
        "    out = out.reshape((local_data.x.shape[0]))\n",
        "    loss = criterion(out[train_mask], local_data.y[train_mask].float())\n",
        "    total_loss = loss\n",
        "    loss.backward()\n",
        "    optimizer.step()\n",
        "    return total_loss\n",
        "\n",
        "for epoch in range(1, 121):\n",
        "    loss = train()\n",
        "    print('Epoch: {:02d}, Loss: {:.4f}'.format(epoch, loss))\n"
      ]
    },
    {
      "cell_type": "code",
      "execution_count": null,
      "metadata": {
        "id": "fPMKxvHjqfPz"
      },
      "outputs": [],
      "source": [
        "from sklearn.metrics import accuracy_score, precision_score, recall_score, f1_score, average_precision_score\n",
        "\n",
        "def test():\n",
        "  model.eval()\n",
        "\n",
        "  out = model(local_data.x, local_data.edge_index)\n",
        "\n",
        "  pred_scores = out.detach().cpu().numpy()[test_mask]\n",
        "  pred_labels = pred_scores > 0\n",
        "\n",
        "  original_data = local_data.detach().cpu()\n",
        "  target_labels = original_data.y[test_mask]\n",
        "\n",
        "  test_accuracy = accuracy_score(target_labels, pred_labels)\n",
        "  test_precision = precision_score(target_labels, pred_labels)\n",
        "  test_recall = recall_score(target_labels, pred_labels)\n",
        "  test_f1 = f1_score(target_labels, pred_labels)\n",
        "  test_average_precision = average_precision_score(target_labels, pred_scores)\n",
        "\n",
        "  test_results = {\n",
        "          1: test_accuracy,\n",
        "          2: test_precision,\n",
        "          3: test_recall,\n",
        "          4: test_f1,\n",
        "          5: test_average_precision\n",
        "    }\n",
        "  return test_results"
      ]
    },
    {
      "cell_type": "code",
      "execution_count": null,
      "metadata": {
        "colab": {
          "base_uri": "https://localhost:8080/"
        },
        "id": "xnVBqSONqfP0",
        "outputId": "bc025f24-2ae4-4dea-9c27-549c12cbd086"
      },
      "outputs": [],
      "source": [
        "test_results = test()\n",
        "print(f'Test Accuracy: {test_results[1]:.4f}, Test Precision: {test_results[2]:.4f}, Test Recall: {test_results[3]:.4f}, Test F1: {test_results[4]:.4f}, Test AP: {test_results[5]:.4f}')"
      ]
    },
    {
      "cell_type": "code",
      "execution_count": null,
      "metadata": {
        "colab": {
          "base_uri": "https://localhost:8080/"
        },
        "id": "9IVOcoNiqfP0",
        "outputId": "2827523f-63a5-47c1-ef59-9c637eda06ac"
      },
      "outputs": [],
      "source": [
        "print(model)"
      ]
    }
  ],
  "metadata": {
    "accelerator": "GPU",
    "colab": {
      "collapsed_sections": [
        "Nh6JX_n1MeJ-",
        "YSc6hxgkRWSV",
        "9a1YeG5NwUwC",
        "5fAL9cI-HiNB",
        "z2ToL0rjHm1n",
        "9s3HWguNLBi4",
        "K3osY3ZwNXr1",
        "dI419wEMNje2",
        "05FTxgmzB_8R",
        "M_Z6Ki0WXMHU",
        "n_BO7V9FXQkz",
        "5T8YheKf2Ral",
        "GG0RsttzblgD",
        "q5R0aecXkPHd",
        "amHHH9eISRuJ",
        "GV5b9gh6mXCv",
        "sxr1iTLRm8mx",
        "Nlz5mLdwdGSD",
        "sOeYnJRNqqsq",
        "X08RFf65xDrp",
        "P9uHUVnB3JJK",
        "dx9BRkytFggQ",
        "a7TNrTHFk0lB",
        "77yNx8l-xu-b",
        "NgvOg-luqfPx"
      ],
      "name": "PyTorch Geometric Elliptic dataset experiments.ipynb",
      "provenance": []
    },
    "interpreter": {
      "hash": "a3b2653f8c3ad9b2a63159168fff6bf4f7665e6fda2a84cbc2f8bf5034d90551"
    },
    "kernelspec": {
      "display_name": "Python 3.9.12 64-bit (windows store)",
      "language": "python",
      "name": "python3"
    },
    "language_info": {
      "codemirror_mode": {
        "name": "ipython",
        "version": 3
      },
      "file_extension": ".py",
      "mimetype": "text/x-python",
      "name": "python",
      "nbconvert_exporter": "python",
      "pygments_lexer": "ipython3",
      "version": "3.9.12"
    }
  },
  "nbformat": 4,
  "nbformat_minor": 0
}
